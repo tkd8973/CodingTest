{
  "nbformat": 4,
  "nbformat_minor": 0,
  "metadata": {
    "colab": {
      "provenance": [],
      "authorship_tag": "ABX9TyOeImMm5R6lsrxW0BZPoWWC",
      "include_colab_link": true
    },
    "kernelspec": {
      "name": "python3",
      "display_name": "Python 3"
    },
    "language_info": {
      "name": "python"
    }
  },
  "cells": [
    {
      "cell_type": "markdown",
      "metadata": {
        "id": "view-in-github",
        "colab_type": "text"
      },
      "source": [
        "<a href=\"https://colab.research.google.com/github/tkd8973/CodingTest/blob/main/tkd8973/Boost%2BLGBM%2BFE%2BConfusion.ipynb\" target=\"_parent\"><img src=\"https://colab.research.google.com/assets/colab-badge.svg\" alt=\"Open In Colab\"/></a>"
      ]
    },
    {
      "cell_type": "markdown",
      "source": [
        "# XGBoost \n",
        "* 결정트리(Decision Tree) : 특정한 변수를 기준으로 두 그룹으로 나눠 예측값을 맞추는 알고리즘\n",
        "* 부분적인 데이터에 특화되어 Over Fitting 문제\n",
        "* (배깅-부트스트랩) : 부분적인 데이터 행 -> 무작위&복원추출 -> 부분집합 -> 과최적화 방지\n",
        "* 랜덤포래스트 : 데이터 행 + 데이터 열 -> 부분집합\n",
        "(배깅, 랜덤포레스트) -> 각 트리들은 독립적 -> 만들어질 때, 서로에게 영향X\n",
        "---\n",
        "* 부스팅 : 이전에 만들어진 트리가 이후 만들어진 트리에 영향을 줘 더 정확하고 빠르게 만들 수 있는 성능 개선 기법\n",
        "    * adaboost : 잘 분류 안되는 데이터들에게 가중치를 줘 좀 더 집중적으로 분류\n",
        "* 경사부스팅\n",
        "    * 경사하강법 -> 오류-> 오류함수,손실함수 -> 기울기 최적화 \n",
        "    * XGboost, LigthGBM, Catboost"
      ],
      "metadata": {
        "id": "RtsLg7Gt9ix9"
      }
    },
    {
      "cell_type": "markdown",
      "source": [
        "# LightGBM\n",
        "* 리프 중심 트리 분할\n",
        "* GBM : 트리 - 루트 노드(부모) - 리프 노드(자식) <-> \n",
        "XGBoost : 균형 분할 방식 - 좌우 노드 수가 균등하게 반반 나뉘는 것으로 먼저 처리\n",
        "* 이진 분류 -> 1,0 -> 몰아줄 수 있으면 먼저 처리, 해당 노드 더 이상 진행X\n",
        "* 장점 : 빠르고, 성능 높음\n",
        "* 단점 : OverFitting\n",
        "\n"
      ],
      "metadata": {
        "id": "SRDEokhi_4B1"
      }
    },
    {
      "cell_type": "markdown",
      "source": [
        "# 피쳐 엔지니어링(특성 공학)\n",
        "* 피쳐 - 독립변수 - 관측값 - X\n",
        "* 변수 선택, 생성, 가중치\n",
        "* 변수 생성 -> 영향\n",
        "* 도메인 지식(나이차, 인종의 유사 여부) ex) 면적/가격 -> 단위면적가격\n",
        "* 통계적 (z-score, 절대값) \n",
        "* 행, 열을 가지고 조작하는 apply, groupby, agg -> 오버피팅 주의\n"
      ],
      "metadata": {
        "id": "3NgLCzdO_5C1"
      }
    },
    {
      "cell_type": "markdown",
      "source": [
        "# 분류 평가 (Classifier)\n",
        "* 정확도, 일치도 : accuracy_score\n",
        "    * 모델을 통해 예측한 결과값 vs 실제 목표값 사이의 일치 여부\n",
        "    * 0~1 사이의 일치 확률,비율\n",
        "* 90%로 잘 맞추지만, FP나 FN이 많음 vs 균형있게 잘 맞춤\n",
        "\n",
        "## 혼동행렬(Confusion Matrix)\n",
        "\n",
        "|예측|실제|명칭|\n",
        "|-|-|-|\n",
        "|1|1|Tp|\n",
        "|0|0|TN|\n",
        "|1|0|FN(위음성, 2종 오류)|\n",
        "|0|1|FP(위양성, 1종 오류)|\n",
        "\n",
        "## 분류 리포트(classification report)\n",
        "`from sklearn.metrics import classification_report`\n",
        "* 정밀도(Precision) : tp/(tp+fp)\n",
        "    * 양성이라고 분류한것 중에서 진짜 양성의 비율\n",
        "    * 위양성(잘못 양성으로 분류한 것) 이 얼마나 적은가\n",
        "* 재현율(Recall) : TP/(TP+FN)\n",
        "    * 실제 양성(True) 중에 얼마나 양성(True)라고 분류되었나\n",
        "    * 위음성(False)로 분류한 것이 얼마나 적은가\n",
        "* F1\n",
        "    * 정밀도와 재현율의 조화 평균\n",
        "    * 둘다 신경써야 할 때\n"
      ],
      "metadata": {
        "id": "IKwdRxSgBSgO"
      }
    },
    {
      "cell_type": "markdown",
      "source": [
        "# 하이퍼 파라미터 튜닝\n",
        "* 학습율 (learning rate) : 경사하강법을 사용 할 때, 얼마나 세세하게 조정 할 것인가-> 민감 할 수록 오래걸림, 오버피팅, 둔감할 수록 언더피팅\n"
      ],
      "metadata": {
        "id": "8hiMi-HaFwCJ"
      }
    },
    {
      "cell_type": "code",
      "source": [],
      "metadata": {
        "id": "XKkB5Wg5Fyes"
      },
      "execution_count": null,
      "outputs": []
    },
    {
      "cell_type": "code",
      "source": [],
      "metadata": {
        "id": "Vu4WEqdS_02x"
      },
      "execution_count": null,
      "outputs": []
    },
    {
      "cell_type": "code",
      "source": [],
      "metadata": {
        "id": "5AZZp-b39cTe"
      },
      "execution_count": null,
      "outputs": []
    }
  ]
}