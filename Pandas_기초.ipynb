{
  "nbformat": 4,
  "nbformat_minor": 0,
  "metadata": {
    "colab": {
      "provenance": [],
      "authorship_tag": "ABX9TyPHkkha17qwJnRYAf+DBxGd",
      "include_colab_link": true
    },
    "kernelspec": {
      "name": "python3",
      "display_name": "Python 3"
    },
    "language_info": {
      "name": "python"
    }
  },
  "cells": [
    {
      "cell_type": "markdown",
      "metadata": {
        "id": "view-in-github",
        "colab_type": "text"
      },
      "source": [
        "<a href=\"https://colab.research.google.com/github/tkd8973/CodingTest/blob/main/Pandas_%EA%B8%B0%EC%B4%88.ipynb\" target=\"_parent\"><img src=\"https://colab.research.google.com/assets/colab-badge.svg\" alt=\"Open In Colab\"/></a>"
      ]
    },
    {
      "cell_type": "markdown",
      "source": [
        "# Pandas"
      ],
      "metadata": {
        "id": "mwm-RBja6Uj9"
      }
    },
    {
      "cell_type": "markdown",
      "source": [
        "## Series\n"
      ],
      "metadata": {
        "id": "pWXcZpH-Broq"
      }
    },
    {
      "cell_type": "markdown",
      "source": [
        "* 시계열과 표로 나타내기 위한 Module로, 시리즈(Series), 데이터프레임(Data Frame) 클래스를 제공\n",
        "* 시리즈(Series)는 1차원 배열과 비슷하고, 각 데이터에 Labeling 가능\n",
        "- Series의 데이터와 index의 길이는 같아야 하고, index를 Label 이라고도 한다 Label에는 문자열, 숫자, 등 모두 가능"
      ],
      "metadata": {
        "id": "5z0sksGL6YJG"
      }
    },
    {
      "cell_type": "code",
      "source": [
        "import pandas as pd\n",
        "\n",
        "data = [2002,4102,4200,7000]\n",
        "index = ['서울','대구','대전','인터넷']\n",
        "\n",
        "s=pd.Series(data,index=index)\n",
        "s"
      ],
      "metadata": {
        "colab": {
          "base_uri": "https://localhost:8080/"
        },
        "id": "J8Z9yViW6XZa",
        "outputId": "df8412d0-9fb2-4da2-d6c0-c031f360ee0f"
      },
      "execution_count": null,
      "outputs": [
        {
          "output_type": "execute_result",
          "data": {
            "text/plain": [
              "서울     2002\n",
              "대구     4102\n",
              "대전     4200\n",
              "인터넷    7000\n",
              "dtype: int64"
            ]
          },
          "metadata": {},
          "execution_count": 1
        }
      ]
    },
    {
      "cell_type": "markdown",
      "source": [
        "- Series의 인덱스는 Series.index 로 접근 가능\n",
        "- Series의 value는 Series.values 로 접근 가능"
      ],
      "metadata": {
        "id": "OxVcbOZT99j7"
      }
    },
    {
      "cell_type": "code",
      "source": [
        "s.index, s.values"
      ],
      "metadata": {
        "id": "55HzdwRz9M4e"
      },
      "execution_count": null,
      "outputs": []
    },
    {
      "cell_type": "markdown",
      "source": [
        "Series는 넘파이 배열과 같이 벡터화 연산이 가능하며 인덱스는 변화하지 않음\n"
      ],
      "metadata": {
        "id": "l_MXOv-k60ZK"
      }
    },
    {
      "cell_type": "code",
      "source": [
        "s/1000"
      ],
      "metadata": {
        "id": "kJKRcJmK60iz"
      },
      "execution_count": null,
      "outputs": []
    },
    {
      "cell_type": "markdown",
      "source": [
        "### Indexing & **Slicing**"
      ],
      "metadata": {
        "id": "VWgypWY--N7H"
      }
    },
    {
      "cell_type": "code",
      "source": [
        "print(s[1])\n",
        "print('------------')\n",
        "print(s['대전'])\n",
        "print('------------')\n",
        "print(s['서울':'대전'])    # 대전 포함\n",
        "print('------------')\n",
        "print(s[[0,3,1]])\n",
        "print('------------')\n",
        "print(s[s>5000])\n"
      ],
      "metadata": {
        "id": "9cSoQfKS-ffW"
      },
      "execution_count": null,
      "outputs": []
    },
    {
      "cell_type": "markdown",
      "source": [
        "- Numpy에서와 같은 방법과, Label을 이용한 인덱싱도 가능"
      ],
      "metadata": {
        "id": "6tthDGXa-V2S"
      }
    },
    {
      "cell_type": "code",
      "source": [
        "s[0 : 3] # index 2 까지 \n",
        "s['서울':'인터넷']  # 인터넷을 포함 "
      ],
      "metadata": {
        "id": "oPeeSF3iA3lz"
      },
      "execution_count": null,
      "outputs": []
    },
    {
      "cell_type": "markdown",
      "source": [
        "### Series와 Dictionary"
      ],
      "metadata": {
        "id": "MUamrO9ZB7Z-"
      }
    },
    {
      "cell_type": "markdown",
      "source": [
        "- Label로 indexing이 가능하기 때문에 딕셔너리 자료형과 유사하다. 따라서 in, items 등의 for루프 가능\n"
      ],
      "metadata": {
        "id": "QrnaHYAlCC4E"
      }
    },
    {
      "cell_type": "code",
      "source": [
        "print('서울' in s)\n",
        "print('천안' not in s)\n",
        "\n",
        "for k,v in s.items():\n",
        "    print(\"{k}={v}\".format(k=k,v=v))\n",
        "    print(f'{k}={v}')\n",
        "    print('%s=%d' %(k,v))"
      ],
      "metadata": {
        "colab": {
          "base_uri": "https://localhost:8080/"
        },
        "id": "p2tT7YMqCNwS",
        "outputId": "a9a5abbd-56c5-44e9-cb9b-dfb822e4c061"
      },
      "execution_count": null,
      "outputs": [
        {
          "output_type": "stream",
          "name": "stdout",
          "text": [
            "True\n",
            "True\n",
            "서울=2002\n",
            "서울=2002\n",
            "서울=2002\n",
            "대구=4102\n",
            "대구=4102\n",
            "대구=4102\n",
            "대전=4200\n",
            "대전=4200\n",
            "대전=4200\n",
            "인터넷=7000\n",
            "인터넷=7000\n",
            "인터넷=7000\n"
          ]
        }
      ]
    },
    {
      "cell_type": "markdown",
      "source": [
        "- Series는 Dictionry 자료형으로 생성이 가능"
      ],
      "metadata": {
        "id": "4oF5Wp6MDLwk"
      }
    },
    {
      "cell_type": "code",
      "source": [
        "s2 = pd.Series({'서울' : 9412534,\n",
        "               '부산' : 1239592,\n",
        "               '대전' : 8423293,\n",
        "               '대구' : 1235992})\n",
        "s2"
      ],
      "metadata": {
        "colab": {
          "base_uri": "https://localhost:8080/"
        },
        "id": "qUaQIUL8C1Bq",
        "outputId": "a7462dd8-dda1-42ec-cbbf-6c3e187229bb"
      },
      "execution_count": null,
      "outputs": [
        {
          "output_type": "execute_result",
          "data": {
            "text/plain": [
              "서울    9412534\n",
              "부산    1239592\n",
              "대전    8423293\n",
              "대구    1235992\n",
              "dtype: int64"
            ]
          },
          "metadata": {},
          "execution_count": 60
        }
      ]
    },
    {
      "cell_type": "markdown",
      "source": [
        "### 인덱스 기반 연산"
      ],
      "metadata": {
        "id": "6oiblc5mDorC"
      }
    },
    {
      "cell_type": "markdown",
      "source": [
        "- 두 시리즈를 연산할 경우, 동일한 인덱스(Label)를 가진 곳 에서만 진행"
      ],
      "metadata": {
        "id": "dL5YIIynDr58"
      }
    },
    {
      "cell_type": "code",
      "source": [
        "ds = s2-s\n",
        "ds"
      ],
      "metadata": {
        "colab": {
          "base_uri": "https://localhost:8080/"
        },
        "id": "GHuNbfaHDzi1",
        "outputId": "cafe2126-6279-4617-d7c1-f18ac857c18f"
      },
      "execution_count": null,
      "outputs": [
        {
          "output_type": "execute_result",
          "data": {
            "text/plain": [
              "대구     1231890.0\n",
              "대전     8419093.0\n",
              "부산           NaN\n",
              "서울     9410532.0\n",
              "인터넷          NaN\n",
              "dtype: float64"
            ]
          },
          "metadata": {},
          "execution_count": 17
        }
      ]
    },
    {
      "cell_type": "markdown",
      "source": [
        "- 시리즈에서 Nan을 알아보고 싶으면 아래 명령어를 사용"
      ],
      "metadata": {
        "id": "UClrMA-BIZwC"
      }
    },
    {
      "cell_type": "code",
      "source": [
        "print(ds.notnull())\n",
        "print('------------')\n",
        "print(ds.isnull())\n",
        "print('------------')\n",
        "print(ds.notna())  "
      ],
      "metadata": {
        "id": "_YcG0pzIH2ZZ"
      },
      "execution_count": null,
      "outputs": []
    },
    {
      "cell_type": "markdown",
      "source": [
        "- 증가율 구하기\n",
        "- (s1-s2)/s2 * 100"
      ],
      "metadata": {
        "id": "IV4mXblXIhHq"
      }
    },
    {
      "cell_type": "code",
      "source": [
        "rs = (s2-s)/s * 100\n",
        "rs.dropna()\n",
        "rs"
      ],
      "metadata": {
        "colab": {
          "base_uri": "https://localhost:8080/"
        },
        "id": "1-dV8Z9MIswc",
        "outputId": "c45a5f81-99d7-4da0-a025-fea4d8ad03b1"
      },
      "execution_count": null,
      "outputs": [
        {
          "output_type": "execute_result",
          "data": {
            "text/plain": [
              "대구      30031.448074\n",
              "대전     200454.595238\n",
              "부산               NaN\n",
              "서울     470056.543457\n",
              "인터넷              NaN\n",
              "dtype: float64"
            ]
          },
          "metadata": {},
          "execution_count": 24
        }
      ]
    },
    {
      "cell_type": "markdown",
      "source": [
        "### 데이터의 갱신, 추가 삭제"
      ],
      "metadata": {
        "id": "tfflBSuPI7Nv"
      }
    },
    {
      "cell_type": "markdown",
      "source": [
        "- 인덱싱으로 딕셔너리처럼 갱신 혹은 업데이트\n",
        "- 삭제는 del Series['Label']\n"
      ],
      "metadata": {
        "id": "DkmGcA_4I-tD"
      }
    },
    {
      "cell_type": "code",
      "source": [
        "rs['부산'] = 1099\n",
        "rs"
      ],
      "metadata": {
        "colab": {
          "base_uri": "https://localhost:8080/"
        },
        "id": "Txqk3YgIJG1r",
        "outputId": "c9496ebc-d0f5-4d6c-f3c0-0c49cf59812f"
      },
      "execution_count": null,
      "outputs": [
        {
          "output_type": "execute_result",
          "data": {
            "text/plain": [
              "대구      30031.448074\n",
              "대전     200454.595238\n",
              "부산       1099.000000\n",
              "서울     470056.543457\n",
              "인터넷              NaN\n",
              "dtype: float64"
            ]
          },
          "metadata": {},
          "execution_count": 25
        }
      ]
    },
    {
      "cell_type": "markdown",
      "source": [
        "### 🦆 연습문제 1\n",
        "1. 임의로 두 개의 시리즈 객체를 만든다. 모두 문자열 인덱스를 가져야 하며 두 시리즈에 공통적으로 포함되지 않는 라벨이 있어야 한다.\n",
        "1. 위에서 만든 두 시리즈 객체를 이용하여 사칙 연산을 한다."
      ],
      "metadata": {
        "id": "8_ywTXIOJTSJ"
      }
    },
    {
      "cell_type": "code",
      "source": [
        "a = pd.Series({'PD3기':20,\n",
        "               'PD4기':23,\n",
        "               'PD5기':17,\n",
        "               'PD6기':21})\n",
        "\n",
        "b= pd.Series({'PD3기' : 14,\n",
        "              '4기 이수' : 17,\n",
        "              '5기 이수' : 15,\n",
        "              'PD6기' : 19})\n",
        "\n",
        "print((a+b).dropna())\n",
        "print(((b/a)*100).dropna())\n"
      ],
      "metadata": {
        "colab": {
          "base_uri": "https://localhost:8080/"
        },
        "id": "AftVWHfXJa_7",
        "outputId": "b1e9b1cd-e97c-4db9-b634-d977bd8f8528"
      },
      "execution_count": null,
      "outputs": [
        {
          "output_type": "stream",
          "name": "stdout",
          "text": [
            "PD3기    34.0\n",
            "PD6기    40.0\n",
            "dtype: float64\n",
            "PD3기    70.00000\n",
            "PD6기    90.47619\n",
            "dtype: float64\n"
          ]
        }
      ]
    },
    {
      "cell_type": "markdown",
      "source": [
        "## DataFrame"
      ],
      "metadata": {
        "id": "CvOigW0eNzVH"
      }
    },
    {
      "cell_type": "markdown",
      "source": [
        "1. 하나의 열이 되는 데이터의 리스트나 일차원 배열 준비\n",
        "2. 각각의 열에 Label을 가지는 key 생성\n",
        "3. DataFrame생성시 열방향 : columns, 행방향 : index\n",
        "\n",
        " ``` DataFrame(values, columns=columns, index=index) ```"
      ],
      "metadata": {
        "id": "gvWrI5gbN4FR"
      }
    },
    {
      "cell_type": "markdown",
      "source": [
        " ``` DataFrame(values, columns=columns, index=index) ```"
      ],
      "metadata": {
        "id": "k67r_nvnSF2v"
      }
    },
    {
      "cell_type": "code",
      "source": [
        "data = {\n",
        "    \"2015\": [9904312, 3448737, 2890451, 2466052],\n",
        "    \"2010\": [9631482, 3393191, 2632035, 2431774],\n",
        "    \"2005\": [9762546, 3512547, 2517680, 2456016],\n",
        "    \"2000\": [9853972, 3655437, 2466338, 2473990],\n",
        "    \"지역\": [\"수도권\", \"경상권\", \"수도권\", \"경상권\"],\n",
        "    \"2010-2015 증가율\": [0.0283, 0.0163, 0.0982, 0.0141]\n",
        "}\n",
        "columns = [\"지역\", \"2015\", \"2010\", \"2005\", \"2000\", \"2010-2015 증가율\"]\n",
        "index = [\"서울\", \"부산\", \"인천\", \"대구\"]\n",
        "\n",
        "df = pd.DataFrame(data,index=index,columns=columns)\n",
        "df"
      ],
      "metadata": {
        "id": "pxY0YD54ODCa",
        "colab": {
          "base_uri": "https://localhost:8080/",
          "height": 175
        },
        "outputId": "6009d2bf-99c4-4cbf-ae16-4038a8202d5b"
      },
      "execution_count": null,
      "outputs": [
        {
          "output_type": "execute_result",
          "data": {
            "text/plain": [
              "     지역     2015     2010     2005     2000  2010-2015 증가율\n",
              "서울  수도권  9904312  9631482  9762546  9853972         0.0283\n",
              "부산  경상권  3448737  3393191  3512547  3655437         0.0163\n",
              "인천  수도권  2890451  2632035  2517680  2466338         0.0982\n",
              "대구  경상권  2466052  2431774  2456016  2473990         0.0141"
            ],
            "text/html": [
              "\n",
              "  <div id=\"df-786258bd-f887-4291-bc0f-1fb34a316b9b\">\n",
              "    <div class=\"colab-df-container\">\n",
              "      <div>\n",
              "<style scoped>\n",
              "    .dataframe tbody tr th:only-of-type {\n",
              "        vertical-align: middle;\n",
              "    }\n",
              "\n",
              "    .dataframe tbody tr th {\n",
              "        vertical-align: top;\n",
              "    }\n",
              "\n",
              "    .dataframe thead th {\n",
              "        text-align: right;\n",
              "    }\n",
              "</style>\n",
              "<table border=\"1\" class=\"dataframe\">\n",
              "  <thead>\n",
              "    <tr style=\"text-align: right;\">\n",
              "      <th></th>\n",
              "      <th>지역</th>\n",
              "      <th>2015</th>\n",
              "      <th>2010</th>\n",
              "      <th>2005</th>\n",
              "      <th>2000</th>\n",
              "      <th>2010-2015 증가율</th>\n",
              "    </tr>\n",
              "  </thead>\n",
              "  <tbody>\n",
              "    <tr>\n",
              "      <th>서울</th>\n",
              "      <td>수도권</td>\n",
              "      <td>9904312</td>\n",
              "      <td>9631482</td>\n",
              "      <td>9762546</td>\n",
              "      <td>9853972</td>\n",
              "      <td>0.0283</td>\n",
              "    </tr>\n",
              "    <tr>\n",
              "      <th>부산</th>\n",
              "      <td>경상권</td>\n",
              "      <td>3448737</td>\n",
              "      <td>3393191</td>\n",
              "      <td>3512547</td>\n",
              "      <td>3655437</td>\n",
              "      <td>0.0163</td>\n",
              "    </tr>\n",
              "    <tr>\n",
              "      <th>인천</th>\n",
              "      <td>수도권</td>\n",
              "      <td>2890451</td>\n",
              "      <td>2632035</td>\n",
              "      <td>2517680</td>\n",
              "      <td>2466338</td>\n",
              "      <td>0.0982</td>\n",
              "    </tr>\n",
              "    <tr>\n",
              "      <th>대구</th>\n",
              "      <td>경상권</td>\n",
              "      <td>2466052</td>\n",
              "      <td>2431774</td>\n",
              "      <td>2456016</td>\n",
              "      <td>2473990</td>\n",
              "      <td>0.0141</td>\n",
              "    </tr>\n",
              "  </tbody>\n",
              "</table>\n",
              "</div>\n",
              "      <button class=\"colab-df-convert\" onclick=\"convertToInteractive('df-786258bd-f887-4291-bc0f-1fb34a316b9b')\"\n",
              "              title=\"Convert this dataframe to an interactive table.\"\n",
              "              style=\"display:none;\">\n",
              "        \n",
              "  <svg xmlns=\"http://www.w3.org/2000/svg\" height=\"24px\"viewBox=\"0 0 24 24\"\n",
              "       width=\"24px\">\n",
              "    <path d=\"M0 0h24v24H0V0z\" fill=\"none\"/>\n",
              "    <path d=\"M18.56 5.44l.94 2.06.94-2.06 2.06-.94-2.06-.94-.94-2.06-.94 2.06-2.06.94zm-11 1L8.5 8.5l.94-2.06 2.06-.94-2.06-.94L8.5 2.5l-.94 2.06-2.06.94zm10 10l.94 2.06.94-2.06 2.06-.94-2.06-.94-.94-2.06-.94 2.06-2.06.94z\"/><path d=\"M17.41 7.96l-1.37-1.37c-.4-.4-.92-.59-1.43-.59-.52 0-1.04.2-1.43.59L10.3 9.45l-7.72 7.72c-.78.78-.78 2.05 0 2.83L4 21.41c.39.39.9.59 1.41.59.51 0 1.02-.2 1.41-.59l7.78-7.78 2.81-2.81c.8-.78.8-2.07 0-2.86zM5.41 20L4 18.59l7.72-7.72 1.47 1.35L5.41 20z\"/>\n",
              "  </svg>\n",
              "      </button>\n",
              "      \n",
              "  <style>\n",
              "    .colab-df-container {\n",
              "      display:flex;\n",
              "      flex-wrap:wrap;\n",
              "      gap: 12px;\n",
              "    }\n",
              "\n",
              "    .colab-df-convert {\n",
              "      background-color: #E8F0FE;\n",
              "      border: none;\n",
              "      border-radius: 50%;\n",
              "      cursor: pointer;\n",
              "      display: none;\n",
              "      fill: #1967D2;\n",
              "      height: 32px;\n",
              "      padding: 0 0 0 0;\n",
              "      width: 32px;\n",
              "    }\n",
              "\n",
              "    .colab-df-convert:hover {\n",
              "      background-color: #E2EBFA;\n",
              "      box-shadow: 0px 1px 2px rgba(60, 64, 67, 0.3), 0px 1px 3px 1px rgba(60, 64, 67, 0.15);\n",
              "      fill: #174EA6;\n",
              "    }\n",
              "\n",
              "    [theme=dark] .colab-df-convert {\n",
              "      background-color: #3B4455;\n",
              "      fill: #D2E3FC;\n",
              "    }\n",
              "\n",
              "    [theme=dark] .colab-df-convert:hover {\n",
              "      background-color: #434B5C;\n",
              "      box-shadow: 0px 1px 3px 1px rgba(0, 0, 0, 0.15);\n",
              "      filter: drop-shadow(0px 1px 2px rgba(0, 0, 0, 0.3));\n",
              "      fill: #FFFFFF;\n",
              "    }\n",
              "  </style>\n",
              "\n",
              "      <script>\n",
              "        const buttonEl =\n",
              "          document.querySelector('#df-786258bd-f887-4291-bc0f-1fb34a316b9b button.colab-df-convert');\n",
              "        buttonEl.style.display =\n",
              "          google.colab.kernel.accessAllowed ? 'block' : 'none';\n",
              "\n",
              "        async function convertToInteractive(key) {\n",
              "          const element = document.querySelector('#df-786258bd-f887-4291-bc0f-1fb34a316b9b');\n",
              "          const dataTable =\n",
              "            await google.colab.kernel.invokeFunction('convertToInteractive',\n",
              "                                                     [key], {});\n",
              "          if (!dataTable) return;\n",
              "\n",
              "          const docLinkHtml = 'Like what you see? Visit the ' +\n",
              "            '<a target=\"_blank\" href=https://colab.research.google.com/notebooks/data_table.ipynb>data table notebook</a>'\n",
              "            + ' to learn more about interactive tables.';\n",
              "          element.innerHTML = '';\n",
              "          dataTable['output_type'] = 'display_data';\n",
              "          await google.colab.output.renderOutput(dataTable, element);\n",
              "          const docLink = document.createElement('div');\n",
              "          docLink.innerHTML = docLinkHtml;\n",
              "          element.appendChild(docLink);\n",
              "        }\n",
              "      </script>\n",
              "    </div>\n",
              "  </div>\n",
              "  "
            ]
          },
          "metadata": {},
          "execution_count": 109
        }
      ]
    },
    {
      "cell_type": "markdown",
      "source": [
        "- 데이터프레임은 각 열(Column)마다 자료형이 다를 수 있음\n",
        "---\n",
        "\n"
      ],
      "metadata": {
        "id": "AlK_24HwOiZa"
      }
    },
    {
      "cell_type": "markdown",
      "source": [
        "\n",
        "## DataFrame Indexing\n",
        "- 데이터에 접근 : ``` values ```\n",
        "- 열방향 인덱스 : ```columns```\n",
        "- 행방향 인덱스 : ```index```\n",
        "- 열방향의 이름 설정 : ```columns.name```\n",
        "- 행방향의 이름 설정: ```index.name``` \n",
        "--- \n"
      ],
      "metadata": {
        "id": "3VXu6FndPch7"
      }
    },
    {
      "cell_type": "code",
      "source": [
        "df.index.name='도시'\n",
        "df.columns.name='특성'\n",
        "df"
      ],
      "metadata": {
        "colab": {
          "base_uri": "https://localhost:8080/",
          "height": 206
        },
        "id": "z-L1aSYrPhOT",
        "outputId": "24c6452e-a1f9-4e7a-8fd8-c85e65b4809c"
      },
      "execution_count": null,
      "outputs": [
        {
          "output_type": "execute_result",
          "data": {
            "text/plain": [
              "특성   지역     2015     2010     2005     2000  2010-2015 증가율\n",
              "도시                                                        \n",
              "서울  수도권  9904312  9631482  9762546  9853972         0.0283\n",
              "부산  경상권  3448737  3393191  3512547  3655437         0.0163\n",
              "인천  수도권  2890451  2632035  2517680  2466338         0.0982\n",
              "대구  경상권  2466052  2431774  2456016  2473990         0.0141"
            ],
            "text/html": [
              "\n",
              "  <div id=\"df-01cf15b2-8b06-49e8-8592-70d11f08a372\">\n",
              "    <div class=\"colab-df-container\">\n",
              "      <div>\n",
              "<style scoped>\n",
              "    .dataframe tbody tr th:only-of-type {\n",
              "        vertical-align: middle;\n",
              "    }\n",
              "\n",
              "    .dataframe tbody tr th {\n",
              "        vertical-align: top;\n",
              "    }\n",
              "\n",
              "    .dataframe thead th {\n",
              "        text-align: right;\n",
              "    }\n",
              "</style>\n",
              "<table border=\"1\" class=\"dataframe\">\n",
              "  <thead>\n",
              "    <tr style=\"text-align: right;\">\n",
              "      <th>특성</th>\n",
              "      <th>지역</th>\n",
              "      <th>2015</th>\n",
              "      <th>2010</th>\n",
              "      <th>2005</th>\n",
              "      <th>2000</th>\n",
              "      <th>2010-2015 증가율</th>\n",
              "    </tr>\n",
              "    <tr>\n",
              "      <th>도시</th>\n",
              "      <th></th>\n",
              "      <th></th>\n",
              "      <th></th>\n",
              "      <th></th>\n",
              "      <th></th>\n",
              "      <th></th>\n",
              "    </tr>\n",
              "  </thead>\n",
              "  <tbody>\n",
              "    <tr>\n",
              "      <th>서울</th>\n",
              "      <td>수도권</td>\n",
              "      <td>9904312</td>\n",
              "      <td>9631482</td>\n",
              "      <td>9762546</td>\n",
              "      <td>9853972</td>\n",
              "      <td>0.0283</td>\n",
              "    </tr>\n",
              "    <tr>\n",
              "      <th>부산</th>\n",
              "      <td>경상권</td>\n",
              "      <td>3448737</td>\n",
              "      <td>3393191</td>\n",
              "      <td>3512547</td>\n",
              "      <td>3655437</td>\n",
              "      <td>0.0163</td>\n",
              "    </tr>\n",
              "    <tr>\n",
              "      <th>인천</th>\n",
              "      <td>수도권</td>\n",
              "      <td>2890451</td>\n",
              "      <td>2632035</td>\n",
              "      <td>2517680</td>\n",
              "      <td>2466338</td>\n",
              "      <td>0.0982</td>\n",
              "    </tr>\n",
              "    <tr>\n",
              "      <th>대구</th>\n",
              "      <td>경상권</td>\n",
              "      <td>2466052</td>\n",
              "      <td>2431774</td>\n",
              "      <td>2456016</td>\n",
              "      <td>2473990</td>\n",
              "      <td>0.0141</td>\n",
              "    </tr>\n",
              "  </tbody>\n",
              "</table>\n",
              "</div>\n",
              "      <button class=\"colab-df-convert\" onclick=\"convertToInteractive('df-01cf15b2-8b06-49e8-8592-70d11f08a372')\"\n",
              "              title=\"Convert this dataframe to an interactive table.\"\n",
              "              style=\"display:none;\">\n",
              "        \n",
              "  <svg xmlns=\"http://www.w3.org/2000/svg\" height=\"24px\"viewBox=\"0 0 24 24\"\n",
              "       width=\"24px\">\n",
              "    <path d=\"M0 0h24v24H0V0z\" fill=\"none\"/>\n",
              "    <path d=\"M18.56 5.44l.94 2.06.94-2.06 2.06-.94-2.06-.94-.94-2.06-.94 2.06-2.06.94zm-11 1L8.5 8.5l.94-2.06 2.06-.94-2.06-.94L8.5 2.5l-.94 2.06-2.06.94zm10 10l.94 2.06.94-2.06 2.06-.94-2.06-.94-.94-2.06-.94 2.06-2.06.94z\"/><path d=\"M17.41 7.96l-1.37-1.37c-.4-.4-.92-.59-1.43-.59-.52 0-1.04.2-1.43.59L10.3 9.45l-7.72 7.72c-.78.78-.78 2.05 0 2.83L4 21.41c.39.39.9.59 1.41.59.51 0 1.02-.2 1.41-.59l7.78-7.78 2.81-2.81c.8-.78.8-2.07 0-2.86zM5.41 20L4 18.59l7.72-7.72 1.47 1.35L5.41 20z\"/>\n",
              "  </svg>\n",
              "      </button>\n",
              "      \n",
              "  <style>\n",
              "    .colab-df-container {\n",
              "      display:flex;\n",
              "      flex-wrap:wrap;\n",
              "      gap: 12px;\n",
              "    }\n",
              "\n",
              "    .colab-df-convert {\n",
              "      background-color: #E8F0FE;\n",
              "      border: none;\n",
              "      border-radius: 50%;\n",
              "      cursor: pointer;\n",
              "      display: none;\n",
              "      fill: #1967D2;\n",
              "      height: 32px;\n",
              "      padding: 0 0 0 0;\n",
              "      width: 32px;\n",
              "    }\n",
              "\n",
              "    .colab-df-convert:hover {\n",
              "      background-color: #E2EBFA;\n",
              "      box-shadow: 0px 1px 2px rgba(60, 64, 67, 0.3), 0px 1px 3px 1px rgba(60, 64, 67, 0.15);\n",
              "      fill: #174EA6;\n",
              "    }\n",
              "\n",
              "    [theme=dark] .colab-df-convert {\n",
              "      background-color: #3B4455;\n",
              "      fill: #D2E3FC;\n",
              "    }\n",
              "\n",
              "    [theme=dark] .colab-df-convert:hover {\n",
              "      background-color: #434B5C;\n",
              "      box-shadow: 0px 1px 3px 1px rgba(0, 0, 0, 0.15);\n",
              "      filter: drop-shadow(0px 1px 2px rgba(0, 0, 0, 0.3));\n",
              "      fill: #FFFFFF;\n",
              "    }\n",
              "  </style>\n",
              "\n",
              "      <script>\n",
              "        const buttonEl =\n",
              "          document.querySelector('#df-01cf15b2-8b06-49e8-8592-70d11f08a372 button.colab-df-convert');\n",
              "        buttonEl.style.display =\n",
              "          google.colab.kernel.accessAllowed ? 'block' : 'none';\n",
              "\n",
              "        async function convertToInteractive(key) {\n",
              "          const element = document.querySelector('#df-01cf15b2-8b06-49e8-8592-70d11f08a372');\n",
              "          const dataTable =\n",
              "            await google.colab.kernel.invokeFunction('convertToInteractive',\n",
              "                                                     [key], {});\n",
              "          if (!dataTable) return;\n",
              "\n",
              "          const docLinkHtml = 'Like what you see? Visit the ' +\n",
              "            '<a target=\"_blank\" href=https://colab.research.google.com/notebooks/data_table.ipynb>data table notebook</a>'\n",
              "            + ' to learn more about interactive tables.';\n",
              "          element.innerHTML = '';\n",
              "          dataTable['output_type'] = 'display_data';\n",
              "          await google.colab.output.renderOutput(dataTable, element);\n",
              "          const docLink = document.createElement('div');\n",
              "          docLink.innerHTML = docLinkHtml;\n",
              "          element.appendChild(docLink);\n",
              "        }\n",
              "      </script>\n",
              "    </div>\n",
              "  </div>\n",
              "  "
            ]
          },
          "metadata": {},
          "execution_count": 64
        }
      ]
    },
    {
      "cell_type": "markdown",
      "source": [
        "### 🦆 연습문제 2\n",
        "다음 조건을 만족하는 임의의 데이터프레임을 하나 만든다.\n",
        "\n",
        "1. 열의 갯수와 행의 갯수가 각각 5개 이상이어야 한다.\n",
        "1. 열에는 정수, 문자열, 실수 자료형 데이터가 각각 1개 이상씩 포함되어 있어야 한다."
      ],
      "metadata": {
        "id": "GpduTO-xQM1C"
      }
    },
    {
      "cell_type": "code",
      "source": [
        "import numpy as np\n",
        "\n",
        "data = lambda x:[np.round(np.random.randn(1),5),\\\n",
        "                 np.random.choice(['ㄱ','ㄴ','ㄷ','ㄹ','ㅁ']),\\\n",
        "                 np.random.randint(5),\\\n",
        "                 np.random.choice(['True',False]),\n",
        "                 np.random.choice(['s','w'])]\n",
        "\n",
        "a = pd.DataFrame([data(5) for i in range(5)],index=['a','b','c','d','e'],columns=['a','b','c','d','e'])\n",
        "a"
      ],
      "metadata": {
        "id": "XpNtyuVkQQmk",
        "colab": {
          "base_uri": "https://localhost:8080/",
          "height": 206
        },
        "outputId": "a28fa7c4-b9f7-47c7-a8bc-063f20e8aa3c"
      },
      "execution_count": null,
      "outputs": [
        {
          "output_type": "execute_result",
          "data": {
            "text/plain": [
              "            a  b  c      d  e\n",
              "a  [-0.16302]  ㄴ  4  False  w\n",
              "b   [0.84334]  ㄷ  3   True  w\n",
              "c   [0.40802]  ㄱ  1   True  w\n",
              "d  [-0.74053]  ㅁ  4  False  s\n",
              "e  [-1.02885]  ㅁ  1  False  s"
            ],
            "text/html": [
              "\n",
              "  <div id=\"df-5600834c-632b-4cc3-81d0-a76af095e77b\">\n",
              "    <div class=\"colab-df-container\">\n",
              "      <div>\n",
              "<style scoped>\n",
              "    .dataframe tbody tr th:only-of-type {\n",
              "        vertical-align: middle;\n",
              "    }\n",
              "\n",
              "    .dataframe tbody tr th {\n",
              "        vertical-align: top;\n",
              "    }\n",
              "\n",
              "    .dataframe thead th {\n",
              "        text-align: right;\n",
              "    }\n",
              "</style>\n",
              "<table border=\"1\" class=\"dataframe\">\n",
              "  <thead>\n",
              "    <tr style=\"text-align: right;\">\n",
              "      <th></th>\n",
              "      <th>a</th>\n",
              "      <th>b</th>\n",
              "      <th>c</th>\n",
              "      <th>d</th>\n",
              "      <th>e</th>\n",
              "    </tr>\n",
              "  </thead>\n",
              "  <tbody>\n",
              "    <tr>\n",
              "      <th>a</th>\n",
              "      <td>[-0.16302]</td>\n",
              "      <td>ㄴ</td>\n",
              "      <td>4</td>\n",
              "      <td>False</td>\n",
              "      <td>w</td>\n",
              "    </tr>\n",
              "    <tr>\n",
              "      <th>b</th>\n",
              "      <td>[0.84334]</td>\n",
              "      <td>ㄷ</td>\n",
              "      <td>3</td>\n",
              "      <td>True</td>\n",
              "      <td>w</td>\n",
              "    </tr>\n",
              "    <tr>\n",
              "      <th>c</th>\n",
              "      <td>[0.40802]</td>\n",
              "      <td>ㄱ</td>\n",
              "      <td>1</td>\n",
              "      <td>True</td>\n",
              "      <td>w</td>\n",
              "    </tr>\n",
              "    <tr>\n",
              "      <th>d</th>\n",
              "      <td>[-0.74053]</td>\n",
              "      <td>ㅁ</td>\n",
              "      <td>4</td>\n",
              "      <td>False</td>\n",
              "      <td>s</td>\n",
              "    </tr>\n",
              "    <tr>\n",
              "      <th>e</th>\n",
              "      <td>[-1.02885]</td>\n",
              "      <td>ㅁ</td>\n",
              "      <td>1</td>\n",
              "      <td>False</td>\n",
              "      <td>s</td>\n",
              "    </tr>\n",
              "  </tbody>\n",
              "</table>\n",
              "</div>\n",
              "      <button class=\"colab-df-convert\" onclick=\"convertToInteractive('df-5600834c-632b-4cc3-81d0-a76af095e77b')\"\n",
              "              title=\"Convert this dataframe to an interactive table.\"\n",
              "              style=\"display:none;\">\n",
              "        \n",
              "  <svg xmlns=\"http://www.w3.org/2000/svg\" height=\"24px\"viewBox=\"0 0 24 24\"\n",
              "       width=\"24px\">\n",
              "    <path d=\"M0 0h24v24H0V0z\" fill=\"none\"/>\n",
              "    <path d=\"M18.56 5.44l.94 2.06.94-2.06 2.06-.94-2.06-.94-.94-2.06-.94 2.06-2.06.94zm-11 1L8.5 8.5l.94-2.06 2.06-.94-2.06-.94L8.5 2.5l-.94 2.06-2.06.94zm10 10l.94 2.06.94-2.06 2.06-.94-2.06-.94-.94-2.06-.94 2.06-2.06.94z\"/><path d=\"M17.41 7.96l-1.37-1.37c-.4-.4-.92-.59-1.43-.59-.52 0-1.04.2-1.43.59L10.3 9.45l-7.72 7.72c-.78.78-.78 2.05 0 2.83L4 21.41c.39.39.9.59 1.41.59.51 0 1.02-.2 1.41-.59l7.78-7.78 2.81-2.81c.8-.78.8-2.07 0-2.86zM5.41 20L4 18.59l7.72-7.72 1.47 1.35L5.41 20z\"/>\n",
              "  </svg>\n",
              "      </button>\n",
              "      \n",
              "  <style>\n",
              "    .colab-df-container {\n",
              "      display:flex;\n",
              "      flex-wrap:wrap;\n",
              "      gap: 12px;\n",
              "    }\n",
              "\n",
              "    .colab-df-convert {\n",
              "      background-color: #E8F0FE;\n",
              "      border: none;\n",
              "      border-radius: 50%;\n",
              "      cursor: pointer;\n",
              "      display: none;\n",
              "      fill: #1967D2;\n",
              "      height: 32px;\n",
              "      padding: 0 0 0 0;\n",
              "      width: 32px;\n",
              "    }\n",
              "\n",
              "    .colab-df-convert:hover {\n",
              "      background-color: #E2EBFA;\n",
              "      box-shadow: 0px 1px 2px rgba(60, 64, 67, 0.3), 0px 1px 3px 1px rgba(60, 64, 67, 0.15);\n",
              "      fill: #174EA6;\n",
              "    }\n",
              "\n",
              "    [theme=dark] .colab-df-convert {\n",
              "      background-color: #3B4455;\n",
              "      fill: #D2E3FC;\n",
              "    }\n",
              "\n",
              "    [theme=dark] .colab-df-convert:hover {\n",
              "      background-color: #434B5C;\n",
              "      box-shadow: 0px 1px 3px 1px rgba(0, 0, 0, 0.15);\n",
              "      filter: drop-shadow(0px 1px 2px rgba(0, 0, 0, 0.3));\n",
              "      fill: #FFFFFF;\n",
              "    }\n",
              "  </style>\n",
              "\n",
              "      <script>\n",
              "        const buttonEl =\n",
              "          document.querySelector('#df-5600834c-632b-4cc3-81d0-a76af095e77b button.colab-df-convert');\n",
              "        buttonEl.style.display =\n",
              "          google.colab.kernel.accessAllowed ? 'block' : 'none';\n",
              "\n",
              "        async function convertToInteractive(key) {\n",
              "          const element = document.querySelector('#df-5600834c-632b-4cc3-81d0-a76af095e77b');\n",
              "          const dataTable =\n",
              "            await google.colab.kernel.invokeFunction('convertToInteractive',\n",
              "                                                     [key], {});\n",
              "          if (!dataTable) return;\n",
              "\n",
              "          const docLinkHtml = 'Like what you see? Visit the ' +\n",
              "            '<a target=\"_blank\" href=https://colab.research.google.com/notebooks/data_table.ipynb>data table notebook</a>'\n",
              "            + ' to learn more about interactive tables.';\n",
              "          element.innerHTML = '';\n",
              "          dataTable['output_type'] = 'display_data';\n",
              "          await google.colab.output.renderOutput(dataTable, element);\n",
              "          const docLink = document.createElement('div');\n",
              "          docLink.innerHTML = docLinkHtml;\n",
              "          element.appendChild(docLink);\n",
              "        }\n",
              "      </script>\n",
              "    </div>\n",
              "  </div>\n",
              "  "
            ]
          },
          "metadata": {},
          "execution_count": 92
        }
      ]
    },
    {
      "cell_type": "markdown",
      "source": [
        "## 데이터의 Update\n"
      ],
      "metadata": {
        "id": "ugX26H_bQOl5"
      }
    },
    {
      "cell_type": "markdown",
      "source": [
        "- 열 단위로 데이터를 Update 가능 함"
      ],
      "metadata": {
        "id": "pJ2u5Un0Wsd0"
      }
    },
    {
      "cell_type": "code",
      "source": [
        "df"
      ],
      "metadata": {
        "colab": {
          "base_uri": "https://localhost:8080/",
          "height": 175
        },
        "id": "GWqxDUJTW_Ee",
        "outputId": "1095c42f-ff97-4109-f427-730a70233e75"
      },
      "execution_count": null,
      "outputs": [
        {
          "output_type": "execute_result",
          "data": {
            "text/plain": [
              "     지역     2015     2010     2005     2000  2010-2015 증가율\n",
              "서울  수도권  9904312  9631482  9762546  9853972         0.0283\n",
              "부산  경상권  3448737  3393191  3512547  3655437         0.0163\n",
              "인천  수도권  2890451  2632035  2517680  2466338         0.0982\n",
              "대구  경상권  2466052  2431774  2456016  2473990         0.0141"
            ],
            "text/html": [
              "\n",
              "  <div id=\"df-726c4a2b-4cea-4c83-9928-15699a9045d6\">\n",
              "    <div class=\"colab-df-container\">\n",
              "      <div>\n",
              "<style scoped>\n",
              "    .dataframe tbody tr th:only-of-type {\n",
              "        vertical-align: middle;\n",
              "    }\n",
              "\n",
              "    .dataframe tbody tr th {\n",
              "        vertical-align: top;\n",
              "    }\n",
              "\n",
              "    .dataframe thead th {\n",
              "        text-align: right;\n",
              "    }\n",
              "</style>\n",
              "<table border=\"1\" class=\"dataframe\">\n",
              "  <thead>\n",
              "    <tr style=\"text-align: right;\">\n",
              "      <th></th>\n",
              "      <th>지역</th>\n",
              "      <th>2015</th>\n",
              "      <th>2010</th>\n",
              "      <th>2005</th>\n",
              "      <th>2000</th>\n",
              "      <th>2010-2015 증가율</th>\n",
              "    </tr>\n",
              "  </thead>\n",
              "  <tbody>\n",
              "    <tr>\n",
              "      <th>서울</th>\n",
              "      <td>수도권</td>\n",
              "      <td>9904312</td>\n",
              "      <td>9631482</td>\n",
              "      <td>9762546</td>\n",
              "      <td>9853972</td>\n",
              "      <td>0.0283</td>\n",
              "    </tr>\n",
              "    <tr>\n",
              "      <th>부산</th>\n",
              "      <td>경상권</td>\n",
              "      <td>3448737</td>\n",
              "      <td>3393191</td>\n",
              "      <td>3512547</td>\n",
              "      <td>3655437</td>\n",
              "      <td>0.0163</td>\n",
              "    </tr>\n",
              "    <tr>\n",
              "      <th>인천</th>\n",
              "      <td>수도권</td>\n",
              "      <td>2890451</td>\n",
              "      <td>2632035</td>\n",
              "      <td>2517680</td>\n",
              "      <td>2466338</td>\n",
              "      <td>0.0982</td>\n",
              "    </tr>\n",
              "    <tr>\n",
              "      <th>대구</th>\n",
              "      <td>경상권</td>\n",
              "      <td>2466052</td>\n",
              "      <td>2431774</td>\n",
              "      <td>2456016</td>\n",
              "      <td>2473990</td>\n",
              "      <td>0.0141</td>\n",
              "    </tr>\n",
              "  </tbody>\n",
              "</table>\n",
              "</div>\n",
              "      <button class=\"colab-df-convert\" onclick=\"convertToInteractive('df-726c4a2b-4cea-4c83-9928-15699a9045d6')\"\n",
              "              title=\"Convert this dataframe to an interactive table.\"\n",
              "              style=\"display:none;\">\n",
              "        \n",
              "  <svg xmlns=\"http://www.w3.org/2000/svg\" height=\"24px\"viewBox=\"0 0 24 24\"\n",
              "       width=\"24px\">\n",
              "    <path d=\"M0 0h24v24H0V0z\" fill=\"none\"/>\n",
              "    <path d=\"M18.56 5.44l.94 2.06.94-2.06 2.06-.94-2.06-.94-.94-2.06-.94 2.06-2.06.94zm-11 1L8.5 8.5l.94-2.06 2.06-.94-2.06-.94L8.5 2.5l-.94 2.06-2.06.94zm10 10l.94 2.06.94-2.06 2.06-.94-2.06-.94-.94-2.06-.94 2.06-2.06.94z\"/><path d=\"M17.41 7.96l-1.37-1.37c-.4-.4-.92-.59-1.43-.59-.52 0-1.04.2-1.43.59L10.3 9.45l-7.72 7.72c-.78.78-.78 2.05 0 2.83L4 21.41c.39.39.9.59 1.41.59.51 0 1.02-.2 1.41-.59l7.78-7.78 2.81-2.81c.8-.78.8-2.07 0-2.86zM5.41 20L4 18.59l7.72-7.72 1.47 1.35L5.41 20z\"/>\n",
              "  </svg>\n",
              "      </button>\n",
              "      \n",
              "  <style>\n",
              "    .colab-df-container {\n",
              "      display:flex;\n",
              "      flex-wrap:wrap;\n",
              "      gap: 12px;\n",
              "    }\n",
              "\n",
              "    .colab-df-convert {\n",
              "      background-color: #E8F0FE;\n",
              "      border: none;\n",
              "      border-radius: 50%;\n",
              "      cursor: pointer;\n",
              "      display: none;\n",
              "      fill: #1967D2;\n",
              "      height: 32px;\n",
              "      padding: 0 0 0 0;\n",
              "      width: 32px;\n",
              "    }\n",
              "\n",
              "    .colab-df-convert:hover {\n",
              "      background-color: #E2EBFA;\n",
              "      box-shadow: 0px 1px 2px rgba(60, 64, 67, 0.3), 0px 1px 3px 1px rgba(60, 64, 67, 0.15);\n",
              "      fill: #174EA6;\n",
              "    }\n",
              "\n",
              "    [theme=dark] .colab-df-convert {\n",
              "      background-color: #3B4455;\n",
              "      fill: #D2E3FC;\n",
              "    }\n",
              "\n",
              "    [theme=dark] .colab-df-convert:hover {\n",
              "      background-color: #434B5C;\n",
              "      box-shadow: 0px 1px 3px 1px rgba(0, 0, 0, 0.15);\n",
              "      filter: drop-shadow(0px 1px 2px rgba(0, 0, 0, 0.3));\n",
              "      fill: #FFFFFF;\n",
              "    }\n",
              "  </style>\n",
              "\n",
              "      <script>\n",
              "        const buttonEl =\n",
              "          document.querySelector('#df-726c4a2b-4cea-4c83-9928-15699a9045d6 button.colab-df-convert');\n",
              "        buttonEl.style.display =\n",
              "          google.colab.kernel.accessAllowed ? 'block' : 'none';\n",
              "\n",
              "        async function convertToInteractive(key) {\n",
              "          const element = document.querySelector('#df-726c4a2b-4cea-4c83-9928-15699a9045d6');\n",
              "          const dataTable =\n",
              "            await google.colab.kernel.invokeFunction('convertToInteractive',\n",
              "                                                     [key], {});\n",
              "          if (!dataTable) return;\n",
              "\n",
              "          const docLinkHtml = 'Like what you see? Visit the ' +\n",
              "            '<a target=\"_blank\" href=https://colab.research.google.com/notebooks/data_table.ipynb>data table notebook</a>'\n",
              "            + ' to learn more about interactive tables.';\n",
              "          element.innerHTML = '';\n",
              "          dataTable['output_type'] = 'display_data';\n",
              "          await google.colab.output.renderOutput(dataTable, element);\n",
              "          const docLink = document.createElement('div');\n",
              "          docLink.innerHTML = docLinkHtml;\n",
              "          element.appendChild(docLink);\n",
              "        }\n",
              "      </script>\n",
              "    </div>\n",
              "  </div>\n",
              "  "
            ]
          },
          "metadata": {},
          "execution_count": 110
        }
      ]
    },
    {
      "cell_type": "code",
      "source": [
        "df['2010-2015 증가율'] *=100\n",
        "df"
      ],
      "metadata": {
        "id": "gg3Rx7iIW11H"
      },
      "execution_count": null,
      "outputs": []
    },
    {
      "cell_type": "code",
      "source": [
        "df['2005-2010 증가율'] = ((df['2010']-df['2005'])/df['2005']*100).round(2)\n",
        "\n",
        "df"
      ],
      "metadata": {
        "colab": {
          "base_uri": "https://localhost:8080/",
          "height": 175
        },
        "id": "V9JUZRmyYKcK",
        "outputId": "5a279b3a-1241-41a1-fc8d-8a6f4cb2b0bb"
      },
      "execution_count": null,
      "outputs": [
        {
          "output_type": "execute_result",
          "data": {
            "text/plain": [
              "     지역     2015     2010     2005     2000  2010-2015 증가율  2005-2010 증가율\n",
              "서울  수도권  9904312  9631482  9762546  9853972           2.83          -1.34\n",
              "부산  경상권  3448737  3393191  3512547  3655437           1.63          -3.40\n",
              "인천  수도권  2890451  2632035  2517680  2466338           9.82           4.54\n",
              "대구  경상권  2466052  2431774  2456016  2473990           1.41          -0.99"
            ],
            "text/html": [
              "\n",
              "  <div id=\"df-caed1b27-1498-40f4-b76a-7ddb5225d6cb\">\n",
              "    <div class=\"colab-df-container\">\n",
              "      <div>\n",
              "<style scoped>\n",
              "    .dataframe tbody tr th:only-of-type {\n",
              "        vertical-align: middle;\n",
              "    }\n",
              "\n",
              "    .dataframe tbody tr th {\n",
              "        vertical-align: top;\n",
              "    }\n",
              "\n",
              "    .dataframe thead th {\n",
              "        text-align: right;\n",
              "    }\n",
              "</style>\n",
              "<table border=\"1\" class=\"dataframe\">\n",
              "  <thead>\n",
              "    <tr style=\"text-align: right;\">\n",
              "      <th></th>\n",
              "      <th>지역</th>\n",
              "      <th>2015</th>\n",
              "      <th>2010</th>\n",
              "      <th>2005</th>\n",
              "      <th>2000</th>\n",
              "      <th>2010-2015 증가율</th>\n",
              "      <th>2005-2010 증가율</th>\n",
              "    </tr>\n",
              "  </thead>\n",
              "  <tbody>\n",
              "    <tr>\n",
              "      <th>서울</th>\n",
              "      <td>수도권</td>\n",
              "      <td>9904312</td>\n",
              "      <td>9631482</td>\n",
              "      <td>9762546</td>\n",
              "      <td>9853972</td>\n",
              "      <td>2.83</td>\n",
              "      <td>-1.34</td>\n",
              "    </tr>\n",
              "    <tr>\n",
              "      <th>부산</th>\n",
              "      <td>경상권</td>\n",
              "      <td>3448737</td>\n",
              "      <td>3393191</td>\n",
              "      <td>3512547</td>\n",
              "      <td>3655437</td>\n",
              "      <td>1.63</td>\n",
              "      <td>-3.40</td>\n",
              "    </tr>\n",
              "    <tr>\n",
              "      <th>인천</th>\n",
              "      <td>수도권</td>\n",
              "      <td>2890451</td>\n",
              "      <td>2632035</td>\n",
              "      <td>2517680</td>\n",
              "      <td>2466338</td>\n",
              "      <td>9.82</td>\n",
              "      <td>4.54</td>\n",
              "    </tr>\n",
              "    <tr>\n",
              "      <th>대구</th>\n",
              "      <td>경상권</td>\n",
              "      <td>2466052</td>\n",
              "      <td>2431774</td>\n",
              "      <td>2456016</td>\n",
              "      <td>2473990</td>\n",
              "      <td>1.41</td>\n",
              "      <td>-0.99</td>\n",
              "    </tr>\n",
              "  </tbody>\n",
              "</table>\n",
              "</div>\n",
              "      <button class=\"colab-df-convert\" onclick=\"convertToInteractive('df-caed1b27-1498-40f4-b76a-7ddb5225d6cb')\"\n",
              "              title=\"Convert this dataframe to an interactive table.\"\n",
              "              style=\"display:none;\">\n",
              "        \n",
              "  <svg xmlns=\"http://www.w3.org/2000/svg\" height=\"24px\"viewBox=\"0 0 24 24\"\n",
              "       width=\"24px\">\n",
              "    <path d=\"M0 0h24v24H0V0z\" fill=\"none\"/>\n",
              "    <path d=\"M18.56 5.44l.94 2.06.94-2.06 2.06-.94-2.06-.94-.94-2.06-.94 2.06-2.06.94zm-11 1L8.5 8.5l.94-2.06 2.06-.94-2.06-.94L8.5 2.5l-.94 2.06-2.06.94zm10 10l.94 2.06.94-2.06 2.06-.94-2.06-.94-.94-2.06-.94 2.06-2.06.94z\"/><path d=\"M17.41 7.96l-1.37-1.37c-.4-.4-.92-.59-1.43-.59-.52 0-1.04.2-1.43.59L10.3 9.45l-7.72 7.72c-.78.78-.78 2.05 0 2.83L4 21.41c.39.39.9.59 1.41.59.51 0 1.02-.2 1.41-.59l7.78-7.78 2.81-2.81c.8-.78.8-2.07 0-2.86zM5.41 20L4 18.59l7.72-7.72 1.47 1.35L5.41 20z\"/>\n",
              "  </svg>\n",
              "      </button>\n",
              "      \n",
              "  <style>\n",
              "    .colab-df-container {\n",
              "      display:flex;\n",
              "      flex-wrap:wrap;\n",
              "      gap: 12px;\n",
              "    }\n",
              "\n",
              "    .colab-df-convert {\n",
              "      background-color: #E8F0FE;\n",
              "      border: none;\n",
              "      border-radius: 50%;\n",
              "      cursor: pointer;\n",
              "      display: none;\n",
              "      fill: #1967D2;\n",
              "      height: 32px;\n",
              "      padding: 0 0 0 0;\n",
              "      width: 32px;\n",
              "    }\n",
              "\n",
              "    .colab-df-convert:hover {\n",
              "      background-color: #E2EBFA;\n",
              "      box-shadow: 0px 1px 2px rgba(60, 64, 67, 0.3), 0px 1px 3px 1px rgba(60, 64, 67, 0.15);\n",
              "      fill: #174EA6;\n",
              "    }\n",
              "\n",
              "    [theme=dark] .colab-df-convert {\n",
              "      background-color: #3B4455;\n",
              "      fill: #D2E3FC;\n",
              "    }\n",
              "\n",
              "    [theme=dark] .colab-df-convert:hover {\n",
              "      background-color: #434B5C;\n",
              "      box-shadow: 0px 1px 3px 1px rgba(0, 0, 0, 0.15);\n",
              "      filter: drop-shadow(0px 1px 2px rgba(0, 0, 0, 0.3));\n",
              "      fill: #FFFFFF;\n",
              "    }\n",
              "  </style>\n",
              "\n",
              "      <script>\n",
              "        const buttonEl =\n",
              "          document.querySelector('#df-caed1b27-1498-40f4-b76a-7ddb5225d6cb button.colab-df-convert');\n",
              "        buttonEl.style.display =\n",
              "          google.colab.kernel.accessAllowed ? 'block' : 'none';\n",
              "\n",
              "        async function convertToInteractive(key) {\n",
              "          const element = document.querySelector('#df-caed1b27-1498-40f4-b76a-7ddb5225d6cb');\n",
              "          const dataTable =\n",
              "            await google.colab.kernel.invokeFunction('convertToInteractive',\n",
              "                                                     [key], {});\n",
              "          if (!dataTable) return;\n",
              "\n",
              "          const docLinkHtml = 'Like what you see? Visit the ' +\n",
              "            '<a target=\"_blank\" href=https://colab.research.google.com/notebooks/data_table.ipynb>data table notebook</a>'\n",
              "            + ' to learn more about interactive tables.';\n",
              "          element.innerHTML = '';\n",
              "          dataTable['output_type'] = 'display_data';\n",
              "          await google.colab.output.renderOutput(dataTable, element);\n",
              "          const docLink = document.createElement('div');\n",
              "          docLink.innerHTML = docLinkHtml;\n",
              "          element.appendChild(docLink);\n",
              "        }\n",
              "      </script>\n",
              "    </div>\n",
              "  </div>\n",
              "  "
            ]
          },
          "metadata": {},
          "execution_count": 117
        }
      ]
    },
    {
      "cell_type": "markdown",
      "source": [
        "## 열 인덱싱"
      ],
      "metadata": {
        "id": "5EAM6OlgXpjg"
      }
    },
    {
      "cell_type": "markdown",
      "source": [
        "- 열 Label = key, 열 Series = value\n",
        "- 열의 Label로 인덱싱 가능"
      ],
      "metadata": {
        "id": "1NVOUWKhXv8N"
      }
    },
    {
      "cell_type": "code",
      "source": [
        "df['2015'] , df['지역']['인천']"
      ],
      "metadata": {
        "id": "k2-3SIgqYFa6",
        "colab": {
          "base_uri": "https://localhost:8080/"
        },
        "outputId": "da44540c-b0d1-4164-8592-e8c707963ffd"
      },
      "execution_count": 118,
      "outputs": [
        {
          "output_type": "execute_result",
          "data": {
            "text/plain": [
              "(서울    9904312\n",
              " 부산    3448737\n",
              " 인천    2890451\n",
              " 대구    2466052\n",
              " Name: 2015, dtype: int64, '수도권')"
            ]
          },
          "metadata": {},
          "execution_count": 118
        }
      ]
    },
    {
      "cell_type": "markdown",
      "source": [
        "- Label에 문자열이 부여되어 있다면 정수Index가 불가능 하다\n",
        "- Label이 원래 정수 열 인덱스를 가지면 정수Index 가능"
      ],
      "metadata": {
        "id": "WQkoOKK6afNO"
      }
    },
    {
      "cell_type": "code",
      "source": [
        "df[1]\n",
        "df2 = pd.DataFrame(np.arange(12).reshape(3,-1))\n",
        "\n",
        "df2[1]"
      ],
      "metadata": {
        "colab": {
          "base_uri": "https://localhost:8080/",
          "height": 529
        },
        "id": "I8mXY-T9aSUq",
        "outputId": "4fd99596-cade-480f-992d-050fe815823b"
      },
      "execution_count": 122,
      "outputs": [
        {
          "output_type": "error",
          "ename": "KeyError",
          "evalue": "ignored",
          "traceback": [
            "\u001b[0;31m---------------------------------------------------------------------------\u001b[0m",
            "\u001b[0;31mKeyError\u001b[0m                                  Traceback (most recent call last)",
            "\u001b[0;32m/usr/local/lib/python3.9/dist-packages/pandas/core/indexes/base.py\u001b[0m in \u001b[0;36mget_loc\u001b[0;34m(self, key, method, tolerance)\u001b[0m\n\u001b[1;32m   3360\u001b[0m             \u001b[0;32mtry\u001b[0m\u001b[0;34m:\u001b[0m\u001b[0;34m\u001b[0m\u001b[0;34m\u001b[0m\u001b[0m\n\u001b[0;32m-> 3361\u001b[0;31m                 \u001b[0;32mreturn\u001b[0m \u001b[0mself\u001b[0m\u001b[0;34m.\u001b[0m\u001b[0m_engine\u001b[0m\u001b[0;34m.\u001b[0m\u001b[0mget_loc\u001b[0m\u001b[0;34m(\u001b[0m\u001b[0mcasted_key\u001b[0m\u001b[0;34m)\u001b[0m\u001b[0;34m\u001b[0m\u001b[0;34m\u001b[0m\u001b[0m\n\u001b[0m\u001b[1;32m   3362\u001b[0m             \u001b[0;32mexcept\u001b[0m \u001b[0mKeyError\u001b[0m \u001b[0;32mas\u001b[0m \u001b[0merr\u001b[0m\u001b[0;34m:\u001b[0m\u001b[0;34m\u001b[0m\u001b[0;34m\u001b[0m\u001b[0m\n",
            "\u001b[0;32m/usr/local/lib/python3.9/dist-packages/pandas/_libs/index.pyx\u001b[0m in \u001b[0;36mpandas._libs.index.IndexEngine.get_loc\u001b[0;34m()\u001b[0m\n",
            "\u001b[0;32m/usr/local/lib/python3.9/dist-packages/pandas/_libs/index.pyx\u001b[0m in \u001b[0;36mpandas._libs.index.IndexEngine.get_loc\u001b[0;34m()\u001b[0m\n",
            "\u001b[0;32mpandas/_libs/hashtable_class_helper.pxi\u001b[0m in \u001b[0;36mpandas._libs.hashtable.PyObjectHashTable.get_item\u001b[0;34m()\u001b[0m\n",
            "\u001b[0;32mpandas/_libs/hashtable_class_helper.pxi\u001b[0m in \u001b[0;36mpandas._libs.hashtable.PyObjectHashTable.get_item\u001b[0;34m()\u001b[0m\n",
            "\u001b[0;31mKeyError\u001b[0m: 1",
            "\nThe above exception was the direct cause of the following exception:\n",
            "\u001b[0;31mKeyError\u001b[0m                                  Traceback (most recent call last)",
            "\u001b[0;32m<ipython-input-122-35d5477b4ee6>\u001b[0m in \u001b[0;36m<module>\u001b[0;34m\u001b[0m\n\u001b[0;32m----> 1\u001b[0;31m \u001b[0mdf\u001b[0m\u001b[0;34m[\u001b[0m\u001b[0;36m1\u001b[0m\u001b[0;34m]\u001b[0m\u001b[0;34m\u001b[0m\u001b[0;34m\u001b[0m\u001b[0m\n\u001b[0m\u001b[1;32m      2\u001b[0m \u001b[0mdf2\u001b[0m \u001b[0;34m=\u001b[0m \u001b[0mpd\u001b[0m\u001b[0;34m.\u001b[0m\u001b[0mDataFrame\u001b[0m\u001b[0;34m(\u001b[0m\u001b[0mnp\u001b[0m\u001b[0;34m.\u001b[0m\u001b[0marange\u001b[0m\u001b[0;34m(\u001b[0m\u001b[0;36m12\u001b[0m\u001b[0;34m)\u001b[0m\u001b[0;34m.\u001b[0m\u001b[0mreshape\u001b[0m\u001b[0;34m(\u001b[0m\u001b[0;36m3\u001b[0m\u001b[0;34m,\u001b[0m\u001b[0;34m-\u001b[0m\u001b[0;36m1\u001b[0m\u001b[0;34m)\u001b[0m\u001b[0;34m)\u001b[0m\u001b[0;34m\u001b[0m\u001b[0;34m\u001b[0m\u001b[0m\n\u001b[1;32m      3\u001b[0m \u001b[0;34m\u001b[0m\u001b[0m\n\u001b[1;32m      4\u001b[0m \u001b[0mdf2\u001b[0m\u001b[0;34m[\u001b[0m\u001b[0;36m1\u001b[0m\u001b[0;34m]\u001b[0m\u001b[0;34m\u001b[0m\u001b[0;34m\u001b[0m\u001b[0m\n",
            "\u001b[0;32m/usr/local/lib/python3.9/dist-packages/pandas/core/frame.py\u001b[0m in \u001b[0;36m__getitem__\u001b[0;34m(self, key)\u001b[0m\n\u001b[1;32m   3456\u001b[0m             \u001b[0;32mif\u001b[0m \u001b[0mself\u001b[0m\u001b[0;34m.\u001b[0m\u001b[0mcolumns\u001b[0m\u001b[0;34m.\u001b[0m\u001b[0mnlevels\u001b[0m \u001b[0;34m>\u001b[0m \u001b[0;36m1\u001b[0m\u001b[0;34m:\u001b[0m\u001b[0;34m\u001b[0m\u001b[0;34m\u001b[0m\u001b[0m\n\u001b[1;32m   3457\u001b[0m                 \u001b[0;32mreturn\u001b[0m \u001b[0mself\u001b[0m\u001b[0;34m.\u001b[0m\u001b[0m_getitem_multilevel\u001b[0m\u001b[0;34m(\u001b[0m\u001b[0mkey\u001b[0m\u001b[0;34m)\u001b[0m\u001b[0;34m\u001b[0m\u001b[0;34m\u001b[0m\u001b[0m\n\u001b[0;32m-> 3458\u001b[0;31m             \u001b[0mindexer\u001b[0m \u001b[0;34m=\u001b[0m \u001b[0mself\u001b[0m\u001b[0;34m.\u001b[0m\u001b[0mcolumns\u001b[0m\u001b[0;34m.\u001b[0m\u001b[0mget_loc\u001b[0m\u001b[0;34m(\u001b[0m\u001b[0mkey\u001b[0m\u001b[0;34m)\u001b[0m\u001b[0;34m\u001b[0m\u001b[0;34m\u001b[0m\u001b[0m\n\u001b[0m\u001b[1;32m   3459\u001b[0m             \u001b[0;32mif\u001b[0m \u001b[0mis_integer\u001b[0m\u001b[0;34m(\u001b[0m\u001b[0mindexer\u001b[0m\u001b[0;34m)\u001b[0m\u001b[0;34m:\u001b[0m\u001b[0;34m\u001b[0m\u001b[0;34m\u001b[0m\u001b[0m\n\u001b[1;32m   3460\u001b[0m                 \u001b[0mindexer\u001b[0m \u001b[0;34m=\u001b[0m \u001b[0;34m[\u001b[0m\u001b[0mindexer\u001b[0m\u001b[0;34m]\u001b[0m\u001b[0;34m\u001b[0m\u001b[0;34m\u001b[0m\u001b[0m\n",
            "\u001b[0;32m/usr/local/lib/python3.9/dist-packages/pandas/core/indexes/base.py\u001b[0m in \u001b[0;36mget_loc\u001b[0;34m(self, key, method, tolerance)\u001b[0m\n\u001b[1;32m   3361\u001b[0m                 \u001b[0;32mreturn\u001b[0m \u001b[0mself\u001b[0m\u001b[0;34m.\u001b[0m\u001b[0m_engine\u001b[0m\u001b[0;34m.\u001b[0m\u001b[0mget_loc\u001b[0m\u001b[0;34m(\u001b[0m\u001b[0mcasted_key\u001b[0m\u001b[0;34m)\u001b[0m\u001b[0;34m\u001b[0m\u001b[0;34m\u001b[0m\u001b[0m\n\u001b[1;32m   3362\u001b[0m             \u001b[0;32mexcept\u001b[0m \u001b[0mKeyError\u001b[0m \u001b[0;32mas\u001b[0m \u001b[0merr\u001b[0m\u001b[0;34m:\u001b[0m\u001b[0;34m\u001b[0m\u001b[0;34m\u001b[0m\u001b[0m\n\u001b[0;32m-> 3363\u001b[0;31m                 \u001b[0;32mraise\u001b[0m \u001b[0mKeyError\u001b[0m\u001b[0;34m(\u001b[0m\u001b[0mkey\u001b[0m\u001b[0;34m)\u001b[0m \u001b[0;32mfrom\u001b[0m \u001b[0merr\u001b[0m\u001b[0;34m\u001b[0m\u001b[0;34m\u001b[0m\u001b[0m\n\u001b[0m\u001b[1;32m   3364\u001b[0m \u001b[0;34m\u001b[0m\u001b[0m\n\u001b[1;32m   3365\u001b[0m         \u001b[0;32mif\u001b[0m \u001b[0mis_scalar\u001b[0m\u001b[0;34m(\u001b[0m\u001b[0mkey\u001b[0m\u001b[0;34m)\u001b[0m \u001b[0;32mand\u001b[0m \u001b[0misna\u001b[0m\u001b[0;34m(\u001b[0m\u001b[0mkey\u001b[0m\u001b[0;34m)\u001b[0m \u001b[0;32mand\u001b[0m \u001b[0;32mnot\u001b[0m \u001b[0mself\u001b[0m\u001b[0;34m.\u001b[0m\u001b[0mhasnans\u001b[0m\u001b[0;34m:\u001b[0m\u001b[0;34m\u001b[0m\u001b[0;34m\u001b[0m\u001b[0m\n",
            "\u001b[0;31mKeyError\u001b[0m: 1"
          ]
        }
      ]
    },
    {
      "cell_type": "markdown",
      "source": [
        "## 행 인덱싱\n"
      ],
      "metadata": {
        "id": "0facosbTa1cM"
      }
    },
    {
      "cell_type": "markdown",
      "source": [
        "- 행 인덱싱을 하려면 슬라이싱 사용\n",
        "- Label이 문자열 이라도 가능"
      ],
      "metadata": {
        "id": "4KoIO8lFbLPI"
      }
    },
    {
      "cell_type": "code",
      "source": [
        "print(df[:1])\n",
        "print(df[1:2])\n",
        "print(df[2:3])"
      ],
      "metadata": {
        "colab": {
          "base_uri": "https://localhost:8080/"
        },
        "id": "Cdk3Eq7JbX2g",
        "outputId": "310dfe64-fcd1-4c3e-9afa-192172d27fbe"
      },
      "execution_count": 124,
      "outputs": [
        {
          "output_type": "stream",
          "name": "stdout",
          "text": [
            "     지역     2015     2010     2005     2000  2010-2015 증가율  2005-2010 증가율\n",
            "서울  수도권  9904312  9631482  9762546  9853972           2.83          -1.34\n",
            "     지역     2015     2010     2005     2000  2010-2015 증가율  2005-2010 증가율\n",
            "부산  경상권  3448737  3393191  3512547  3655437           1.63           -3.4\n",
            "     지역     2015     2010     2005     2000  2010-2015 증가율  2005-2010 증가율\n",
            "인천  수도권  2890451  2632035  2517680  2466338           9.82           4.54\n"
          ]
        }
      ]
    },
    {
      "cell_type": "code",
      "source": [
        "df['서울':'대구'] == df[:4]"
      ],
      "metadata": {
        "colab": {
          "base_uri": "https://localhost:8080/",
          "height": 175
        },
        "id": "Fl9UJp9Nbi6T",
        "outputId": "14d367d4-6ece-443c-85a8-2f43df4114cf"
      },
      "execution_count": 127,
      "outputs": [
        {
          "output_type": "execute_result",
          "data": {
            "text/plain": [
              "      지역  2015  2010  2005  2000  2010-2015 증가율  2005-2010 증가율\n",
              "서울  True  True  True  True  True           True           True\n",
              "부산  True  True  True  True  True           True           True\n",
              "인천  True  True  True  True  True           True           True\n",
              "대구  True  True  True  True  True           True           True"
            ],
            "text/html": [
              "\n",
              "  <div id=\"df-02cfa9fd-6d3d-40a1-92b5-d55deeb2a7b7\">\n",
              "    <div class=\"colab-df-container\">\n",
              "      <div>\n",
              "<style scoped>\n",
              "    .dataframe tbody tr th:only-of-type {\n",
              "        vertical-align: middle;\n",
              "    }\n",
              "\n",
              "    .dataframe tbody tr th {\n",
              "        vertical-align: top;\n",
              "    }\n",
              "\n",
              "    .dataframe thead th {\n",
              "        text-align: right;\n",
              "    }\n",
              "</style>\n",
              "<table border=\"1\" class=\"dataframe\">\n",
              "  <thead>\n",
              "    <tr style=\"text-align: right;\">\n",
              "      <th></th>\n",
              "      <th>지역</th>\n",
              "      <th>2015</th>\n",
              "      <th>2010</th>\n",
              "      <th>2005</th>\n",
              "      <th>2000</th>\n",
              "      <th>2010-2015 증가율</th>\n",
              "      <th>2005-2010 증가율</th>\n",
              "    </tr>\n",
              "  </thead>\n",
              "  <tbody>\n",
              "    <tr>\n",
              "      <th>서울</th>\n",
              "      <td>True</td>\n",
              "      <td>True</td>\n",
              "      <td>True</td>\n",
              "      <td>True</td>\n",
              "      <td>True</td>\n",
              "      <td>True</td>\n",
              "      <td>True</td>\n",
              "    </tr>\n",
              "    <tr>\n",
              "      <th>부산</th>\n",
              "      <td>True</td>\n",
              "      <td>True</td>\n",
              "      <td>True</td>\n",
              "      <td>True</td>\n",
              "      <td>True</td>\n",
              "      <td>True</td>\n",
              "      <td>True</td>\n",
              "    </tr>\n",
              "    <tr>\n",
              "      <th>인천</th>\n",
              "      <td>True</td>\n",
              "      <td>True</td>\n",
              "      <td>True</td>\n",
              "      <td>True</td>\n",
              "      <td>True</td>\n",
              "      <td>True</td>\n",
              "      <td>True</td>\n",
              "    </tr>\n",
              "    <tr>\n",
              "      <th>대구</th>\n",
              "      <td>True</td>\n",
              "      <td>True</td>\n",
              "      <td>True</td>\n",
              "      <td>True</td>\n",
              "      <td>True</td>\n",
              "      <td>True</td>\n",
              "      <td>True</td>\n",
              "    </tr>\n",
              "  </tbody>\n",
              "</table>\n",
              "</div>\n",
              "      <button class=\"colab-df-convert\" onclick=\"convertToInteractive('df-02cfa9fd-6d3d-40a1-92b5-d55deeb2a7b7')\"\n",
              "              title=\"Convert this dataframe to an interactive table.\"\n",
              "              style=\"display:none;\">\n",
              "        \n",
              "  <svg xmlns=\"http://www.w3.org/2000/svg\" height=\"24px\"viewBox=\"0 0 24 24\"\n",
              "       width=\"24px\">\n",
              "    <path d=\"M0 0h24v24H0V0z\" fill=\"none\"/>\n",
              "    <path d=\"M18.56 5.44l.94 2.06.94-2.06 2.06-.94-2.06-.94-.94-2.06-.94 2.06-2.06.94zm-11 1L8.5 8.5l.94-2.06 2.06-.94-2.06-.94L8.5 2.5l-.94 2.06-2.06.94zm10 10l.94 2.06.94-2.06 2.06-.94-2.06-.94-.94-2.06-.94 2.06-2.06.94z\"/><path d=\"M17.41 7.96l-1.37-1.37c-.4-.4-.92-.59-1.43-.59-.52 0-1.04.2-1.43.59L10.3 9.45l-7.72 7.72c-.78.78-.78 2.05 0 2.83L4 21.41c.39.39.9.59 1.41.59.51 0 1.02-.2 1.41-.59l7.78-7.78 2.81-2.81c.8-.78.8-2.07 0-2.86zM5.41 20L4 18.59l7.72-7.72 1.47 1.35L5.41 20z\"/>\n",
              "  </svg>\n",
              "      </button>\n",
              "      \n",
              "  <style>\n",
              "    .colab-df-container {\n",
              "      display:flex;\n",
              "      flex-wrap:wrap;\n",
              "      gap: 12px;\n",
              "    }\n",
              "\n",
              "    .colab-df-convert {\n",
              "      background-color: #E8F0FE;\n",
              "      border: none;\n",
              "      border-radius: 50%;\n",
              "      cursor: pointer;\n",
              "      display: none;\n",
              "      fill: #1967D2;\n",
              "      height: 32px;\n",
              "      padding: 0 0 0 0;\n",
              "      width: 32px;\n",
              "    }\n",
              "\n",
              "    .colab-df-convert:hover {\n",
              "      background-color: #E2EBFA;\n",
              "      box-shadow: 0px 1px 2px rgba(60, 64, 67, 0.3), 0px 1px 3px 1px rgba(60, 64, 67, 0.15);\n",
              "      fill: #174EA6;\n",
              "    }\n",
              "\n",
              "    [theme=dark] .colab-df-convert {\n",
              "      background-color: #3B4455;\n",
              "      fill: #D2E3FC;\n",
              "    }\n",
              "\n",
              "    [theme=dark] .colab-df-convert:hover {\n",
              "      background-color: #434B5C;\n",
              "      box-shadow: 0px 1px 3px 1px rgba(0, 0, 0, 0.15);\n",
              "      filter: drop-shadow(0px 1px 2px rgba(0, 0, 0, 0.3));\n",
              "      fill: #FFFFFF;\n",
              "    }\n",
              "  </style>\n",
              "\n",
              "      <script>\n",
              "        const buttonEl =\n",
              "          document.querySelector('#df-02cfa9fd-6d3d-40a1-92b5-d55deeb2a7b7 button.colab-df-convert');\n",
              "        buttonEl.style.display =\n",
              "          google.colab.kernel.accessAllowed ? 'block' : 'none';\n",
              "\n",
              "        async function convertToInteractive(key) {\n",
              "          const element = document.querySelector('#df-02cfa9fd-6d3d-40a1-92b5-d55deeb2a7b7');\n",
              "          const dataTable =\n",
              "            await google.colab.kernel.invokeFunction('convertToInteractive',\n",
              "                                                     [key], {});\n",
              "          if (!dataTable) return;\n",
              "\n",
              "          const docLinkHtml = 'Like what you see? Visit the ' +\n",
              "            '<a target=\"_blank\" href=https://colab.research.google.com/notebooks/data_table.ipynb>data table notebook</a>'\n",
              "            + ' to learn more about interactive tables.';\n",
              "          element.innerHTML = '';\n",
              "          dataTable['output_type'] = 'display_data';\n",
              "          await google.colab.output.renderOutput(dataTable, element);\n",
              "          const docLink = document.createElement('div');\n",
              "          docLink.innerHTML = docLinkHtml;\n",
              "          element.appendChild(docLink);\n",
              "        }\n",
              "      </script>\n",
              "    </div>\n",
              "  </div>\n",
              "  "
            ]
          },
          "metadata": {},
          "execution_count": 127
        }
      ]
    },
    {
      "cell_type": "markdown",
      "source": [
        "## 개별 데이터 인덱싱"
      ],
      "metadata": {
        "id": "CAN3kx2abxPq"
      }
    },
    {
      "cell_type": "markdown",
      "source": [
        "- df에서 열 인덱싱을 하면 시리즈 반환, 시리즈를 행 라벨로 인덱싱하면 개별 데이터 반환"
      ],
      "metadata": {
        "id": "Yr1UkDqab01v"
      }
    },
    {
      "cell_type": "code",
      "source": [
        "df['2015'][0], df['2015']['서울']"
      ],
      "metadata": {
        "colab": {
          "base_uri": "https://localhost:8080/"
        },
        "id": "iWU1I4e5b9ig",
        "outputId": "33578d24-09af-479a-bc4c-865ac0124dc6"
      },
      "execution_count": 130,
      "outputs": [
        {
          "output_type": "execute_result",
          "data": {
            "text/plain": [
              "(9904312, 9904312)"
            ]
          },
          "metadata": {},
          "execution_count": 130
        }
      ]
    },
    {
      "cell_type": "markdown",
      "source": [
        "### 🦆 연습문제 3\n",
        "```\n",
        "data = {\n",
        "    \"국어\": [80, 90, 70, 30],\n",
        "    \"영어\": [90, 70, 60, 40],\n",
        "    \"수학\": [90, 60, 80, 70],\n",
        "}\n",
        "columns = [\"국어\", \"영어\", \"수학\"]\n",
        "index = [\"춘향\", \"몽룡\", \"향단\", \"방자\"]\n",
        "df = pd.DataFrame(data, index=index, columns=columns)\n",
        "```\n",
        "1. 모든 학생의 수학 점수를 시리즈로 나타낸다.\n",
        "1. 모든 학생의 국어와 영어 점수를 데이터 프레임으로 나타낸다.\n",
        "1. 모든 학생의 각 과목 평균 점수를 새로운 열로 추가한다.\n",
        "1. 방자의 영어 점수를 80점으로 수정하고 평균 점수도 다시 계산한다.\n",
        "1. 춘향의 점수를 데이터프레임으로 나타낸다.\n",
        "1. 향단의 점수를 시리즈로 나타낸다."
      ],
      "metadata": {
        "id": "-g8ILeu-cct9"
      }
    },
    {
      "cell_type": "code",
      "source": [
        "data = {\n",
        "    \"국어\": [80, 90, 70, 30],\n",
        "    \"영어\": [90, 70, 60, 40],\n",
        "    \"수학\": [90, 60, 80, 70],\n",
        "}\n",
        "columns = [\"국어\", \"영어\", \"수학\"]\n",
        "index = [\"춘향\", \"몽룡\", \"향단\", \"방자\"]\n",
        "df = pd.DataFrame(data, index=index, columns=columns)\n",
        "df"
      ],
      "metadata": {
        "colab": {
          "base_uri": "https://localhost:8080/",
          "height": 175
        },
        "id": "QR7sSVFmcg8G",
        "outputId": "7456f42b-6b22-4c83-f6a8-1f6cde432e17"
      },
      "execution_count": 168,
      "outputs": [
        {
          "output_type": "execute_result",
          "data": {
            "text/plain": [
              "    국어  영어  수학\n",
              "춘향  80  90  90\n",
              "몽룡  90  70  60\n",
              "향단  70  60  80\n",
              "방자  30  40  70"
            ],
            "text/html": [
              "\n",
              "  <div id=\"df-97cde04a-6378-41f9-96b0-ad1cb2ac73d9\">\n",
              "    <div class=\"colab-df-container\">\n",
              "      <div>\n",
              "<style scoped>\n",
              "    .dataframe tbody tr th:only-of-type {\n",
              "        vertical-align: middle;\n",
              "    }\n",
              "\n",
              "    .dataframe tbody tr th {\n",
              "        vertical-align: top;\n",
              "    }\n",
              "\n",
              "    .dataframe thead th {\n",
              "        text-align: right;\n",
              "    }\n",
              "</style>\n",
              "<table border=\"1\" class=\"dataframe\">\n",
              "  <thead>\n",
              "    <tr style=\"text-align: right;\">\n",
              "      <th></th>\n",
              "      <th>국어</th>\n",
              "      <th>영어</th>\n",
              "      <th>수학</th>\n",
              "    </tr>\n",
              "  </thead>\n",
              "  <tbody>\n",
              "    <tr>\n",
              "      <th>춘향</th>\n",
              "      <td>80</td>\n",
              "      <td>90</td>\n",
              "      <td>90</td>\n",
              "    </tr>\n",
              "    <tr>\n",
              "      <th>몽룡</th>\n",
              "      <td>90</td>\n",
              "      <td>70</td>\n",
              "      <td>60</td>\n",
              "    </tr>\n",
              "    <tr>\n",
              "      <th>향단</th>\n",
              "      <td>70</td>\n",
              "      <td>60</td>\n",
              "      <td>80</td>\n",
              "    </tr>\n",
              "    <tr>\n",
              "      <th>방자</th>\n",
              "      <td>30</td>\n",
              "      <td>40</td>\n",
              "      <td>70</td>\n",
              "    </tr>\n",
              "  </tbody>\n",
              "</table>\n",
              "</div>\n",
              "      <button class=\"colab-df-convert\" onclick=\"convertToInteractive('df-97cde04a-6378-41f9-96b0-ad1cb2ac73d9')\"\n",
              "              title=\"Convert this dataframe to an interactive table.\"\n",
              "              style=\"display:none;\">\n",
              "        \n",
              "  <svg xmlns=\"http://www.w3.org/2000/svg\" height=\"24px\"viewBox=\"0 0 24 24\"\n",
              "       width=\"24px\">\n",
              "    <path d=\"M0 0h24v24H0V0z\" fill=\"none\"/>\n",
              "    <path d=\"M18.56 5.44l.94 2.06.94-2.06 2.06-.94-2.06-.94-.94-2.06-.94 2.06-2.06.94zm-11 1L8.5 8.5l.94-2.06 2.06-.94-2.06-.94L8.5 2.5l-.94 2.06-2.06.94zm10 10l.94 2.06.94-2.06 2.06-.94-2.06-.94-.94-2.06-.94 2.06-2.06.94z\"/><path d=\"M17.41 7.96l-1.37-1.37c-.4-.4-.92-.59-1.43-.59-.52 0-1.04.2-1.43.59L10.3 9.45l-7.72 7.72c-.78.78-.78 2.05 0 2.83L4 21.41c.39.39.9.59 1.41.59.51 0 1.02-.2 1.41-.59l7.78-7.78 2.81-2.81c.8-.78.8-2.07 0-2.86zM5.41 20L4 18.59l7.72-7.72 1.47 1.35L5.41 20z\"/>\n",
              "  </svg>\n",
              "      </button>\n",
              "      \n",
              "  <style>\n",
              "    .colab-df-container {\n",
              "      display:flex;\n",
              "      flex-wrap:wrap;\n",
              "      gap: 12px;\n",
              "    }\n",
              "\n",
              "    .colab-df-convert {\n",
              "      background-color: #E8F0FE;\n",
              "      border: none;\n",
              "      border-radius: 50%;\n",
              "      cursor: pointer;\n",
              "      display: none;\n",
              "      fill: #1967D2;\n",
              "      height: 32px;\n",
              "      padding: 0 0 0 0;\n",
              "      width: 32px;\n",
              "    }\n",
              "\n",
              "    .colab-df-convert:hover {\n",
              "      background-color: #E2EBFA;\n",
              "      box-shadow: 0px 1px 2px rgba(60, 64, 67, 0.3), 0px 1px 3px 1px rgba(60, 64, 67, 0.15);\n",
              "      fill: #174EA6;\n",
              "    }\n",
              "\n",
              "    [theme=dark] .colab-df-convert {\n",
              "      background-color: #3B4455;\n",
              "      fill: #D2E3FC;\n",
              "    }\n",
              "\n",
              "    [theme=dark] .colab-df-convert:hover {\n",
              "      background-color: #434B5C;\n",
              "      box-shadow: 0px 1px 3px 1px rgba(0, 0, 0, 0.15);\n",
              "      filter: drop-shadow(0px 1px 2px rgba(0, 0, 0, 0.3));\n",
              "      fill: #FFFFFF;\n",
              "    }\n",
              "  </style>\n",
              "\n",
              "      <script>\n",
              "        const buttonEl =\n",
              "          document.querySelector('#df-97cde04a-6378-41f9-96b0-ad1cb2ac73d9 button.colab-df-convert');\n",
              "        buttonEl.style.display =\n",
              "          google.colab.kernel.accessAllowed ? 'block' : 'none';\n",
              "\n",
              "        async function convertToInteractive(key) {\n",
              "          const element = document.querySelector('#df-97cde04a-6378-41f9-96b0-ad1cb2ac73d9');\n",
              "          const dataTable =\n",
              "            await google.colab.kernel.invokeFunction('convertToInteractive',\n",
              "                                                     [key], {});\n",
              "          if (!dataTable) return;\n",
              "\n",
              "          const docLinkHtml = 'Like what you see? Visit the ' +\n",
              "            '<a target=\"_blank\" href=https://colab.research.google.com/notebooks/data_table.ipynb>data table notebook</a>'\n",
              "            + ' to learn more about interactive tables.';\n",
              "          element.innerHTML = '';\n",
              "          dataTable['output_type'] = 'display_data';\n",
              "          await google.colab.output.renderOutput(dataTable, element);\n",
              "          const docLink = document.createElement('div');\n",
              "          docLink.innerHTML = docLinkHtml;\n",
              "          element.appendChild(docLink);\n",
              "        }\n",
              "      </script>\n",
              "    </div>\n",
              "  </div>\n",
              "  "
            ]
          },
          "metadata": {},
          "execution_count": 168
        }
      ]
    },
    {
      "cell_type": "code",
      "source": [
        "# prob 1\n",
        "ans1 = df['수학']\n",
        "ans1"
      ],
      "metadata": {
        "colab": {
          "base_uri": "https://localhost:8080/"
        },
        "id": "fniZ_LLbcmFx",
        "outputId": "078d442c-fa7b-4794-9358-8a151a8a8099"
      },
      "execution_count": 152,
      "outputs": [
        {
          "output_type": "execute_result",
          "data": {
            "text/plain": [
              "춘향    90\n",
              "몽룡    60\n",
              "향단    80\n",
              "방자    70\n",
              "Name: 수학, dtype: int64"
            ]
          },
          "metadata": {},
          "execution_count": 152
        }
      ]
    },
    {
      "cell_type": "code",
      "source": [
        "# prob 2\n",
        "ans2 = df[['국어','영어']]\n",
        "ans2"
      ],
      "metadata": {
        "id": "olPS1-2ddIPi"
      },
      "execution_count": 153,
      "outputs": []
    },
    {
      "cell_type": "code",
      "source": [
        "# prob 3\n",
        "df['mean']=np.mean(df,axis=1)\n",
        "df"
      ],
      "metadata": {
        "colab": {
          "base_uri": "https://localhost:8080/",
          "height": 175
        },
        "id": "_tBUW79Pd_E6",
        "outputId": "b2a3460a-ef9f-4f2f-d9b3-7d799312fb98"
      },
      "execution_count": 174,
      "outputs": [
        {
          "output_type": "execute_result",
          "data": {
            "text/plain": [
              "    국어  영어  수학       mean\n",
              "춘향  80  90  90  86.666667\n",
              "몽룡  90  70  60  73.333333\n",
              "향단  70  60  80  70.000000\n",
              "방자  30  40  70  46.666667"
            ],
            "text/html": [
              "\n",
              "  <div id=\"df-bd2a3f28-6b64-4491-b72a-896bb5a1f526\">\n",
              "    <div class=\"colab-df-container\">\n",
              "      <div>\n",
              "<style scoped>\n",
              "    .dataframe tbody tr th:only-of-type {\n",
              "        vertical-align: middle;\n",
              "    }\n",
              "\n",
              "    .dataframe tbody tr th {\n",
              "        vertical-align: top;\n",
              "    }\n",
              "\n",
              "    .dataframe thead th {\n",
              "        text-align: right;\n",
              "    }\n",
              "</style>\n",
              "<table border=\"1\" class=\"dataframe\">\n",
              "  <thead>\n",
              "    <tr style=\"text-align: right;\">\n",
              "      <th></th>\n",
              "      <th>국어</th>\n",
              "      <th>영어</th>\n",
              "      <th>수학</th>\n",
              "      <th>mean</th>\n",
              "    </tr>\n",
              "  </thead>\n",
              "  <tbody>\n",
              "    <tr>\n",
              "      <th>춘향</th>\n",
              "      <td>80</td>\n",
              "      <td>90</td>\n",
              "      <td>90</td>\n",
              "      <td>86.666667</td>\n",
              "    </tr>\n",
              "    <tr>\n",
              "      <th>몽룡</th>\n",
              "      <td>90</td>\n",
              "      <td>70</td>\n",
              "      <td>60</td>\n",
              "      <td>73.333333</td>\n",
              "    </tr>\n",
              "    <tr>\n",
              "      <th>향단</th>\n",
              "      <td>70</td>\n",
              "      <td>60</td>\n",
              "      <td>80</td>\n",
              "      <td>70.000000</td>\n",
              "    </tr>\n",
              "    <tr>\n",
              "      <th>방자</th>\n",
              "      <td>30</td>\n",
              "      <td>40</td>\n",
              "      <td>70</td>\n",
              "      <td>46.666667</td>\n",
              "    </tr>\n",
              "  </tbody>\n",
              "</table>\n",
              "</div>\n",
              "      <button class=\"colab-df-convert\" onclick=\"convertToInteractive('df-bd2a3f28-6b64-4491-b72a-896bb5a1f526')\"\n",
              "              title=\"Convert this dataframe to an interactive table.\"\n",
              "              style=\"display:none;\">\n",
              "        \n",
              "  <svg xmlns=\"http://www.w3.org/2000/svg\" height=\"24px\"viewBox=\"0 0 24 24\"\n",
              "       width=\"24px\">\n",
              "    <path d=\"M0 0h24v24H0V0z\" fill=\"none\"/>\n",
              "    <path d=\"M18.56 5.44l.94 2.06.94-2.06 2.06-.94-2.06-.94-.94-2.06-.94 2.06-2.06.94zm-11 1L8.5 8.5l.94-2.06 2.06-.94-2.06-.94L8.5 2.5l-.94 2.06-2.06.94zm10 10l.94 2.06.94-2.06 2.06-.94-2.06-.94-.94-2.06-.94 2.06-2.06.94z\"/><path d=\"M17.41 7.96l-1.37-1.37c-.4-.4-.92-.59-1.43-.59-.52 0-1.04.2-1.43.59L10.3 9.45l-7.72 7.72c-.78.78-.78 2.05 0 2.83L4 21.41c.39.39.9.59 1.41.59.51 0 1.02-.2 1.41-.59l7.78-7.78 2.81-2.81c.8-.78.8-2.07 0-2.86zM5.41 20L4 18.59l7.72-7.72 1.47 1.35L5.41 20z\"/>\n",
              "  </svg>\n",
              "      </button>\n",
              "      \n",
              "  <style>\n",
              "    .colab-df-container {\n",
              "      display:flex;\n",
              "      flex-wrap:wrap;\n",
              "      gap: 12px;\n",
              "    }\n",
              "\n",
              "    .colab-df-convert {\n",
              "      background-color: #E8F0FE;\n",
              "      border: none;\n",
              "      border-radius: 50%;\n",
              "      cursor: pointer;\n",
              "      display: none;\n",
              "      fill: #1967D2;\n",
              "      height: 32px;\n",
              "      padding: 0 0 0 0;\n",
              "      width: 32px;\n",
              "    }\n",
              "\n",
              "    .colab-df-convert:hover {\n",
              "      background-color: #E2EBFA;\n",
              "      box-shadow: 0px 1px 2px rgba(60, 64, 67, 0.3), 0px 1px 3px 1px rgba(60, 64, 67, 0.15);\n",
              "      fill: #174EA6;\n",
              "    }\n",
              "\n",
              "    [theme=dark] .colab-df-convert {\n",
              "      background-color: #3B4455;\n",
              "      fill: #D2E3FC;\n",
              "    }\n",
              "\n",
              "    [theme=dark] .colab-df-convert:hover {\n",
              "      background-color: #434B5C;\n",
              "      box-shadow: 0px 1px 3px 1px rgba(0, 0, 0, 0.15);\n",
              "      filter: drop-shadow(0px 1px 2px rgba(0, 0, 0, 0.3));\n",
              "      fill: #FFFFFF;\n",
              "    }\n",
              "  </style>\n",
              "\n",
              "      <script>\n",
              "        const buttonEl =\n",
              "          document.querySelector('#df-bd2a3f28-6b64-4491-b72a-896bb5a1f526 button.colab-df-convert');\n",
              "        buttonEl.style.display =\n",
              "          google.colab.kernel.accessAllowed ? 'block' : 'none';\n",
              "\n",
              "        async function convertToInteractive(key) {\n",
              "          const element = document.querySelector('#df-bd2a3f28-6b64-4491-b72a-896bb5a1f526');\n",
              "          const dataTable =\n",
              "            await google.colab.kernel.invokeFunction('convertToInteractive',\n",
              "                                                     [key], {});\n",
              "          if (!dataTable) return;\n",
              "\n",
              "          const docLinkHtml = 'Like what you see? Visit the ' +\n",
              "            '<a target=\"_blank\" href=https://colab.research.google.com/notebooks/data_table.ipynb>data table notebook</a>'\n",
              "            + ' to learn more about interactive tables.';\n",
              "          element.innerHTML = '';\n",
              "          dataTable['output_type'] = 'display_data';\n",
              "          await google.colab.output.renderOutput(dataTable, element);\n",
              "          const docLink = document.createElement('div');\n",
              "          docLink.innerHTML = docLinkHtml;\n",
              "          element.appendChild(docLink);\n",
              "        }\n",
              "      </script>\n",
              "    </div>\n",
              "  </div>\n",
              "  "
            ]
          },
          "metadata": {},
          "execution_count": 174
        }
      ]
    },
    {
      "cell_type": "code",
      "source": [
        "# porb 4\n",
        "df['영어']['방자'] = 80\n",
        "df['mean']=np.mean(df,axis=1)\n",
        "df"
      ],
      "metadata": {
        "colab": {
          "base_uri": "https://localhost:8080/",
          "height": 267
        },
        "id": "RnmU1JvyeQX-",
        "outputId": "698311e0-968a-4f07-ae3b-fc9604fe0f6c"
      },
      "execution_count": 225,
      "outputs": [
        {
          "output_type": "stream",
          "name": "stderr",
          "text": [
            "<ipython-input-225-945a274c0eaa>:2: SettingWithCopyWarning: \n",
            "A value is trying to be set on a copy of a slice from a DataFrame\n",
            "\n",
            "See the caveats in the documentation: https://pandas.pydata.org/pandas-docs/stable/user_guide/indexing.html#returning-a-view-versus-a-copy\n",
            "  df['영어']['방자'] = 80\n"
          ]
        },
        {
          "output_type": "execute_result",
          "data": {
            "text/plain": [
              "    국어  영어  수학       mean\n",
              "춘향  80  90  90  86.666667\n",
              "몽룡  90  70  60  73.333333\n",
              "향단  70  60  80  70.000000\n",
              "방자  30  80  70  59.999999"
            ],
            "text/html": [
              "\n",
              "  <div id=\"df-0433a379-bcd0-499c-974f-ac8f3285255f\">\n",
              "    <div class=\"colab-df-container\">\n",
              "      <div>\n",
              "<style scoped>\n",
              "    .dataframe tbody tr th:only-of-type {\n",
              "        vertical-align: middle;\n",
              "    }\n",
              "\n",
              "    .dataframe tbody tr th {\n",
              "        vertical-align: top;\n",
              "    }\n",
              "\n",
              "    .dataframe thead th {\n",
              "        text-align: right;\n",
              "    }\n",
              "</style>\n",
              "<table border=\"1\" class=\"dataframe\">\n",
              "  <thead>\n",
              "    <tr style=\"text-align: right;\">\n",
              "      <th></th>\n",
              "      <th>국어</th>\n",
              "      <th>영어</th>\n",
              "      <th>수학</th>\n",
              "      <th>mean</th>\n",
              "    </tr>\n",
              "  </thead>\n",
              "  <tbody>\n",
              "    <tr>\n",
              "      <th>춘향</th>\n",
              "      <td>80</td>\n",
              "      <td>90</td>\n",
              "      <td>90</td>\n",
              "      <td>86.666667</td>\n",
              "    </tr>\n",
              "    <tr>\n",
              "      <th>몽룡</th>\n",
              "      <td>90</td>\n",
              "      <td>70</td>\n",
              "      <td>60</td>\n",
              "      <td>73.333333</td>\n",
              "    </tr>\n",
              "    <tr>\n",
              "      <th>향단</th>\n",
              "      <td>70</td>\n",
              "      <td>60</td>\n",
              "      <td>80</td>\n",
              "      <td>70.000000</td>\n",
              "    </tr>\n",
              "    <tr>\n",
              "      <th>방자</th>\n",
              "      <td>30</td>\n",
              "      <td>80</td>\n",
              "      <td>70</td>\n",
              "      <td>59.999999</td>\n",
              "    </tr>\n",
              "  </tbody>\n",
              "</table>\n",
              "</div>\n",
              "      <button class=\"colab-df-convert\" onclick=\"convertToInteractive('df-0433a379-bcd0-499c-974f-ac8f3285255f')\"\n",
              "              title=\"Convert this dataframe to an interactive table.\"\n",
              "              style=\"display:none;\">\n",
              "        \n",
              "  <svg xmlns=\"http://www.w3.org/2000/svg\" height=\"24px\"viewBox=\"0 0 24 24\"\n",
              "       width=\"24px\">\n",
              "    <path d=\"M0 0h24v24H0V0z\" fill=\"none\"/>\n",
              "    <path d=\"M18.56 5.44l.94 2.06.94-2.06 2.06-.94-2.06-.94-.94-2.06-.94 2.06-2.06.94zm-11 1L8.5 8.5l.94-2.06 2.06-.94-2.06-.94L8.5 2.5l-.94 2.06-2.06.94zm10 10l.94 2.06.94-2.06 2.06-.94-2.06-.94-.94-2.06-.94 2.06-2.06.94z\"/><path d=\"M17.41 7.96l-1.37-1.37c-.4-.4-.92-.59-1.43-.59-.52 0-1.04.2-1.43.59L10.3 9.45l-7.72 7.72c-.78.78-.78 2.05 0 2.83L4 21.41c.39.39.9.59 1.41.59.51 0 1.02-.2 1.41-.59l7.78-7.78 2.81-2.81c.8-.78.8-2.07 0-2.86zM5.41 20L4 18.59l7.72-7.72 1.47 1.35L5.41 20z\"/>\n",
              "  </svg>\n",
              "      </button>\n",
              "      \n",
              "  <style>\n",
              "    .colab-df-container {\n",
              "      display:flex;\n",
              "      flex-wrap:wrap;\n",
              "      gap: 12px;\n",
              "    }\n",
              "\n",
              "    .colab-df-convert {\n",
              "      background-color: #E8F0FE;\n",
              "      border: none;\n",
              "      border-radius: 50%;\n",
              "      cursor: pointer;\n",
              "      display: none;\n",
              "      fill: #1967D2;\n",
              "      height: 32px;\n",
              "      padding: 0 0 0 0;\n",
              "      width: 32px;\n",
              "    }\n",
              "\n",
              "    .colab-df-convert:hover {\n",
              "      background-color: #E2EBFA;\n",
              "      box-shadow: 0px 1px 2px rgba(60, 64, 67, 0.3), 0px 1px 3px 1px rgba(60, 64, 67, 0.15);\n",
              "      fill: #174EA6;\n",
              "    }\n",
              "\n",
              "    [theme=dark] .colab-df-convert {\n",
              "      background-color: #3B4455;\n",
              "      fill: #D2E3FC;\n",
              "    }\n",
              "\n",
              "    [theme=dark] .colab-df-convert:hover {\n",
              "      background-color: #434B5C;\n",
              "      box-shadow: 0px 1px 3px 1px rgba(0, 0, 0, 0.15);\n",
              "      filter: drop-shadow(0px 1px 2px rgba(0, 0, 0, 0.3));\n",
              "      fill: #FFFFFF;\n",
              "    }\n",
              "  </style>\n",
              "\n",
              "      <script>\n",
              "        const buttonEl =\n",
              "          document.querySelector('#df-0433a379-bcd0-499c-974f-ac8f3285255f button.colab-df-convert');\n",
              "        buttonEl.style.display =\n",
              "          google.colab.kernel.accessAllowed ? 'block' : 'none';\n",
              "\n",
              "        async function convertToInteractive(key) {\n",
              "          const element = document.querySelector('#df-0433a379-bcd0-499c-974f-ac8f3285255f');\n",
              "          const dataTable =\n",
              "            await google.colab.kernel.invokeFunction('convertToInteractive',\n",
              "                                                     [key], {});\n",
              "          if (!dataTable) return;\n",
              "\n",
              "          const docLinkHtml = 'Like what you see? Visit the ' +\n",
              "            '<a target=\"_blank\" href=https://colab.research.google.com/notebooks/data_table.ipynb>data table notebook</a>'\n",
              "            + ' to learn more about interactive tables.';\n",
              "          element.innerHTML = '';\n",
              "          dataTable['output_type'] = 'display_data';\n",
              "          await google.colab.output.renderOutput(dataTable, element);\n",
              "          const docLink = document.createElement('div');\n",
              "          docLink.innerHTML = docLinkHtml;\n",
              "          element.appendChild(docLink);\n",
              "        }\n",
              "      </script>\n",
              "    </div>\n",
              "  </div>\n",
              "  "
            ]
          },
          "metadata": {},
          "execution_count": 225
        }
      ]
    },
    {
      "cell_type": "code",
      "source": [
        "# prob 5\n",
        "df[:1]"
      ],
      "metadata": {
        "colab": {
          "base_uri": "https://localhost:8080/",
          "height": 81
        },
        "id": "F7sQ85v3f4XY",
        "outputId": "0c1ae809-b07d-43ce-9c3a-91406a4afb33"
      },
      "execution_count": 226,
      "outputs": [
        {
          "output_type": "execute_result",
          "data": {
            "text/plain": [
              "    국어  영어  수학       mean\n",
              "춘향  80  90  90  86.666667"
            ],
            "text/html": [
              "\n",
              "  <div id=\"df-5d6700fa-1d1e-4118-ad2d-a37716dd3f2a\">\n",
              "    <div class=\"colab-df-container\">\n",
              "      <div>\n",
              "<style scoped>\n",
              "    .dataframe tbody tr th:only-of-type {\n",
              "        vertical-align: middle;\n",
              "    }\n",
              "\n",
              "    .dataframe tbody tr th {\n",
              "        vertical-align: top;\n",
              "    }\n",
              "\n",
              "    .dataframe thead th {\n",
              "        text-align: right;\n",
              "    }\n",
              "</style>\n",
              "<table border=\"1\" class=\"dataframe\">\n",
              "  <thead>\n",
              "    <tr style=\"text-align: right;\">\n",
              "      <th></th>\n",
              "      <th>국어</th>\n",
              "      <th>영어</th>\n",
              "      <th>수학</th>\n",
              "      <th>mean</th>\n",
              "    </tr>\n",
              "  </thead>\n",
              "  <tbody>\n",
              "    <tr>\n",
              "      <th>춘향</th>\n",
              "      <td>80</td>\n",
              "      <td>90</td>\n",
              "      <td>90</td>\n",
              "      <td>86.666667</td>\n",
              "    </tr>\n",
              "  </tbody>\n",
              "</table>\n",
              "</div>\n",
              "      <button class=\"colab-df-convert\" onclick=\"convertToInteractive('df-5d6700fa-1d1e-4118-ad2d-a37716dd3f2a')\"\n",
              "              title=\"Convert this dataframe to an interactive table.\"\n",
              "              style=\"display:none;\">\n",
              "        \n",
              "  <svg xmlns=\"http://www.w3.org/2000/svg\" height=\"24px\"viewBox=\"0 0 24 24\"\n",
              "       width=\"24px\">\n",
              "    <path d=\"M0 0h24v24H0V0z\" fill=\"none\"/>\n",
              "    <path d=\"M18.56 5.44l.94 2.06.94-2.06 2.06-.94-2.06-.94-.94-2.06-.94 2.06-2.06.94zm-11 1L8.5 8.5l.94-2.06 2.06-.94-2.06-.94L8.5 2.5l-.94 2.06-2.06.94zm10 10l.94 2.06.94-2.06 2.06-.94-2.06-.94-.94-2.06-.94 2.06-2.06.94z\"/><path d=\"M17.41 7.96l-1.37-1.37c-.4-.4-.92-.59-1.43-.59-.52 0-1.04.2-1.43.59L10.3 9.45l-7.72 7.72c-.78.78-.78 2.05 0 2.83L4 21.41c.39.39.9.59 1.41.59.51 0 1.02-.2 1.41-.59l7.78-7.78 2.81-2.81c.8-.78.8-2.07 0-2.86zM5.41 20L4 18.59l7.72-7.72 1.47 1.35L5.41 20z\"/>\n",
              "  </svg>\n",
              "      </button>\n",
              "      \n",
              "  <style>\n",
              "    .colab-df-container {\n",
              "      display:flex;\n",
              "      flex-wrap:wrap;\n",
              "      gap: 12px;\n",
              "    }\n",
              "\n",
              "    .colab-df-convert {\n",
              "      background-color: #E8F0FE;\n",
              "      border: none;\n",
              "      border-radius: 50%;\n",
              "      cursor: pointer;\n",
              "      display: none;\n",
              "      fill: #1967D2;\n",
              "      height: 32px;\n",
              "      padding: 0 0 0 0;\n",
              "      width: 32px;\n",
              "    }\n",
              "\n",
              "    .colab-df-convert:hover {\n",
              "      background-color: #E2EBFA;\n",
              "      box-shadow: 0px 1px 2px rgba(60, 64, 67, 0.3), 0px 1px 3px 1px rgba(60, 64, 67, 0.15);\n",
              "      fill: #174EA6;\n",
              "    }\n",
              "\n",
              "    [theme=dark] .colab-df-convert {\n",
              "      background-color: #3B4455;\n",
              "      fill: #D2E3FC;\n",
              "    }\n",
              "\n",
              "    [theme=dark] .colab-df-convert:hover {\n",
              "      background-color: #434B5C;\n",
              "      box-shadow: 0px 1px 3px 1px rgba(0, 0, 0, 0.15);\n",
              "      filter: drop-shadow(0px 1px 2px rgba(0, 0, 0, 0.3));\n",
              "      fill: #FFFFFF;\n",
              "    }\n",
              "  </style>\n",
              "\n",
              "      <script>\n",
              "        const buttonEl =\n",
              "          document.querySelector('#df-5d6700fa-1d1e-4118-ad2d-a37716dd3f2a button.colab-df-convert');\n",
              "        buttonEl.style.display =\n",
              "          google.colab.kernel.accessAllowed ? 'block' : 'none';\n",
              "\n",
              "        async function convertToInteractive(key) {\n",
              "          const element = document.querySelector('#df-5d6700fa-1d1e-4118-ad2d-a37716dd3f2a');\n",
              "          const dataTable =\n",
              "            await google.colab.kernel.invokeFunction('convertToInteractive',\n",
              "                                                     [key], {});\n",
              "          if (!dataTable) return;\n",
              "\n",
              "          const docLinkHtml = 'Like what you see? Visit the ' +\n",
              "            '<a target=\"_blank\" href=https://colab.research.google.com/notebooks/data_table.ipynb>data table notebook</a>'\n",
              "            + ' to learn more about interactive tables.';\n",
              "          element.innerHTML = '';\n",
              "          dataTable['output_type'] = 'display_data';\n",
              "          await google.colab.output.renderOutput(dataTable, element);\n",
              "          const docLink = document.createElement('div');\n",
              "          docLink.innerHTML = docLinkHtml;\n",
              "          element.appendChild(docLink);\n",
              "        }\n",
              "      </script>\n",
              "    </div>\n",
              "  </div>\n",
              "  "
            ]
          },
          "metadata": {},
          "execution_count": 226
        }
      ]
    },
    {
      "cell_type": "code",
      "source": [
        "# prob 6\n",
        "df.T['향단']"
      ],
      "metadata": {
        "colab": {
          "base_uri": "https://localhost:8080/"
        },
        "id": "3iK3HUcHf8t6",
        "outputId": "f60af24f-99f1-441c-8fe1-b41262d911a2"
      },
      "execution_count": 231,
      "outputs": [
        {
          "output_type": "execute_result",
          "data": {
            "text/plain": [
              "국어      70.0\n",
              "영어      60.0\n",
              "수학      80.0\n",
              "mean    70.0\n",
              "Name: 향단, dtype: float64"
            ]
          },
          "metadata": {},
          "execution_count": 231
        }
      ]
    },
    {
      "cell_type": "markdown",
      "source": [
        "## 데이터 입출력"
      ],
      "metadata": {
        "id": "xa_1ddDhltQh"
      }
    },
    {
      "cell_type": "markdown",
      "source": [
        "- CSV : Comma Seperate Value"
      ],
      "metadata": {
        "id": "zmeQM95glzBE"
      }
    }
  ]
}